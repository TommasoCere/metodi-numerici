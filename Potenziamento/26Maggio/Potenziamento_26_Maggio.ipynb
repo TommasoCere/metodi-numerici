{
 "cells": [
  {
   "cell_type": "markdown",
   "id": "11874d8c-1742-4875-ac22-d596596c332b",
   "metadata": {},
   "source": [
    "## Esercitazione di Potenziamento"
   ]
  },
  {
   "cell_type": "code",
   "execution_count": 1,
   "id": "441a0e5b",
   "metadata": {},
   "outputs": [],
   "source": [
    "import numpy as np\n",
    "import matplotlib.pyplot as plt\n",
    "import scipy as sp"
   ]
  },
  {
   "attachments": {},
   "cell_type": "markdown",
   "id": "a47df7a7-f227-42d8-b4fa-828e8dd24da4",
   "metadata": {},
   "source": [
    "Implementare le functioni necessarie per costruire il polinomio interpolante di Lagrange. \n",
    "\n",
    "                                                                [5 punti]\n",
    "                                                         \n",
    "                                                         "
   ]
  },
  {
   "cell_type": "code",
   "execution_count": 2,
   "id": "4be93694",
   "metadata": {},
   "outputs": [],
   "source": [
    "def plagr(xnodi,k):\n",
    "    \"\"\"\n",
    "    Restituisce i coefficienti del k-esimo pol di\n",
    "    Lagrange associato ai punti del vettore xnodi\n",
    "    \"\"\"\n",
    "    xzeri=np.zeros_like(xnodi)\n",
    "    n=xnodi.size # numero di nodi\n",
    "    if k==0:\n",
    "       xzeri=xnodi[1:n]\n",
    "    else:\n",
    "       xzeri=np.append(xnodi[0:k],xnodi[k+1:n]) # nodi senza il k-esimo\n",
    "    num=np.poly(xzeri) # polinomio di grado n-1\n",
    "    den=np.polyval(num,xnodi[k])\n",
    "    p=num/den\n",
    "    return p\n",
    "\n",
    "def InterpL(x, f, xx):\n",
    "     \"\"\"\"\n",
    "        %funzione che determina in un insieme di punti il valore del polinomio\n",
    "        %interpolante ottenuto dalla formula di Lagrange.\n",
    "        % DATI INPUT\n",
    "        %  x  vettore con i nodi dell'interpolazione\n",
    "        %  f  vettore con i valori dei nodi \n",
    "        %  xx vettore con i punti in cui si vuole calcolare il polinomio\n",
    "        % DATI OUTPUT\n",
    "        %  y vettore contenente i valori assunti dal polinomio interpolante\n",
    "        %\n",
    "     \"\"\"\n",
    "     n=x.size\n",
    "     m=xx.size\n",
    "     L=np.zeros((m,n))\n",
    "     for k in range(n):\n",
    "        p=plagr(x,k)\n",
    "        L[:,k]=np.polyval(p,xx)\n",
    "     return np.dot(L,f)"
   ]
  },
  {
   "cell_type": "markdown",
   "id": "a36e0e93-6991-4689-8503-7225df3b9064",
   "metadata": {},
   "source": [
    "Sia assegnata la funzione $f(x)=cos(\\pi x)+sin(\\pi x)$, $ x \\in [0,2]$"
   ]
  },
  {
   "cell_type": "markdown",
   "id": "12daee8b-9fc8-4275-9581-666764da72b0",
   "metadata": {},
   "source": [
    "facendo uso delle functions implementate precedentemente, si determini il polinomio p che interpola f nei nodi  x0 = 1, x1 = 1.5, x2 = 1.75.\n",
    "\n",
    "                                                               [3 punti]"
   ]
  },
  {
   "cell_type": "code",
   "execution_count": 3,
   "id": "0fa0c42d",
   "metadata": {},
   "outputs": [],
   "source": [
    "x = np.array([1,1.5,1.75])\n",
    "f = lambda x: np.cos(np.pi*x)+np.sin(np.pi*x)\n",
    "y = f(x)\n",
    "xx = np.linspace(0,2,200) # 200 punti equispaziati tra 0 e 2\n",
    "polL = InterpL(x,y,xx)"
   ]
  },
  {
   "cell_type": "markdown",
   "id": "fd5c35dd-a674-451c-aae9-337e5ef03c62",
   "metadata": {},
   "source": [
    "si rappresenti in uno stesso grafico la funzione f, il polinomio p e i punti di interpolazione assegnati;\n",
    "\n",
    "                                                              [2 punti]"
   ]
  },
  {
   "cell_type": "code",
   "execution_count": 10,
   "id": "4e15c5eb",
   "metadata": {},
   "outputs": [
    {
     "data": {
      "text/plain": [
       "<matplotlib.legend.Legend at 0x2099f123f40>"
      ]
     },
     "execution_count": 10,
     "metadata": {},
     "output_type": "execute_result"
    },
    {
     "data": {
      "image/png": "[encoded data removed]",
      "text/plain": [
       "<Figure size 432x288 with 1 Axes>"
      ]
     },
     "metadata": {
      "needs_background": "light"
     },
     "output_type": "display_data"
    }
   ],
   "source": [
    "plt.plot(xx,f(xx),\"r-\", xx,polL,\"g--\", x,y,\"bo\")\n",
    "plt.legend([\"Esatta\", \"Polinomio Interpolatore\", \"Nodi di interpolazione\"])"
   ]
  },
  {
   "cell_type": "markdown",
   "id": "c9bc4c59-d2da-415c-b200-839ad4b9223e",
   "metadata": {},
   "source": [
    " si calcoli il valore assunto dalla funzione errore E(x) := |f(x) − p(x)| nel punto $x^∗$ = 0.75 e si definisca teoricamente da cosa dipende l'errore che si compie quando al posto del polinomio interpolatore si considera la funzione che ha generato i dati, commentando opportunamente la formula\n",
    " \n",
    "                                                             [3 punti]"
   ]
  },
  {
   "cell_type": "code",
   "execution_count": 11,
   "id": "63e00ab5",
   "metadata": {},
   "outputs": [
    {
     "name": "stdout",
     "output_type": "stream",
     "text": [
      "Errore di interpolazione in x=0.75:  [2.22044605e-16]\n"
     ]
    },
    {
     "data": {
      "text/plain": [
       "<matplotlib.legend.Legend at 0x209a0ab61a0>"
      ]
     },
     "execution_count": 11,
     "metadata": {},
     "output_type": "execute_result"
    },
    {
     "data": {
      "image/png": "[encoded data removed]",
      "text/plain": [
       "<Figure size 432x288 with 1 Axes>"
      ]
     },
     "metadata": {
      "needs_background": "light"
     },
     "output_type": "display_data"
    }
   ],
   "source": [
    "val075 = InterpL(x,y,np.array([0.75]))\n",
    "errore = np.abs(f(0.75)-val075)\n",
    "print(\"Errore di interpolazione in x=0.75: \", errore)\n",
    "\n",
    "# per motivi didattici, disengno il valore di interpolazione\n",
    "plt.plot(xx,f(xx),\"r-\", xx,polL,\"g--\", x,y,\"bo\", 0.75,val075,\"m*\")\n",
    "plt.legend([\"Esatta\", \"Polinomio Interpolatore\", \"Nodi di interpolazione\", \"x* = 0.75\"])\n"
   ]
  },
  {
   "cell_type": "markdown",
   "id": "581b9038-3bf9-4ad8-8648-60f6fb904430",
   "metadata": {},
   "source": [
    "si stabilisca qual è il polinomio interpolatore per f passante per i nodi $x^*$ \n",
    ", x0, x1 e x2.\n",
    "\n",
    "\n",
    "                                                            [2 punti]"
   ]
  },
  {
   "cell_type": "code",
   "execution_count": null,
   "id": "9985e069",
   "metadata": {},
   "outputs": [],
   "source": []
  },
  {
   "cell_type": "markdown",
   "id": "edab2f10-0b78-48a1-aab1-0b150d2f5611",
   "metadata": {},
   "source": [
    "Si calcoli la costante di Lebesgue e si dica che ruolo svolge nell'ambito dell'interpolazione polinomiale\n",
    "\n",
    "                                                             [3 punti]"
   ]
  },
  {
   "cell_type": "code",
   "execution_count": null,
   "id": "8ae3ee84-b2ec-438a-a0d6-18ca9eab9677",
   "metadata": {},
   "outputs": [],
   "source": []
  }
 ],
 "metadata": {
  "kernelspec": {
   "display_name": "py310",
   "language": "python",
   "name": "python3"
  },
  "language_info": {
   "codemirror_mode": {
    "name": "ipython",
    "version": 3
   },
   "file_extension": ".py",
   "mimetype": "text/x-python",
   "name": "python",
   "nbconvert_exporter": "python",
   "pygments_lexer": "ipython3",
   "version": "3.10.8 | packaged by conda-forge | (main, Nov 24 2022, 14:07:00) [MSC v.1916 64 bit (AMD64)]"
  },
  "vscode": {
   "interpreter": {
    "hash": "30eef1dcfb837675ec28ded3b62cbdc631b763468d0e57f04da975e3db11727d"
   }
  }
 },
 "nbformat": 4,
 "nbformat_minor": 5
}
