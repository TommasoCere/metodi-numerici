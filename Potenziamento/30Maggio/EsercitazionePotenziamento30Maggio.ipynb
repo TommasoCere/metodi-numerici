{
 "cells": [
  {
   "cell_type": "markdown",
   "id": "498aa83d-7a0b-4015-950d-309c7284a836",
   "metadata": {},
   "source": [
    "## Esercitazione di potenziamento del 30 Maggio 2023"
   ]
  },
  {
   "cell_type": "code",
   "execution_count": 2,
   "id": "33a45fae",
   "metadata": {},
   "outputs": [],
   "source": [
    "import numpy as np\n",
    "import matplotlib.pyplot as plt\n",
    "import sympy as sym\n",
    "from sympy.utilities.lambdify import lambdify\n",
    "\n",
    "from scipy.io import loadmat\n",
    "import scipy.linalg as spl\n",
    "import RisolviSis as utils"
   ]
  },
  {
   "cell_type": "markdown",
   "id": "c36bfdae-c6a9-4c3a-ac7b-4779d9567e0d",
   "metadata": {},
   "source": [
    "## Esercizio 1"
   ]
  },
  {
   "attachments": {},
   "cell_type": "markdown",
   "id": "919fb260-f93b-4613-89a1-5e8d93f65822",
   "metadata": {},
   "source": [
    "-   Valutare in aritmetica floating point l'espressione\n",
    "$f(x)=\\frac{1}{x}-\\frac{1}{(x+0.04)}$  nel vettore   $x=[10^0, 10^1,... ,10^{20}]$ contenente potenze successive  di $10$. \n",
    "\n",
    "                                                [1 punto]\n",
    "- Calcolare l'indice di condizionamente del problema di valutare la funzione $f(x)$ al variare x e dedurre a partire da quale valore di x esso  assume valori molto elevati. Dire cosa rappresenta l'indice di condizionamento di un problema e dire cosa misura. \n",
    "\n",
    "                                                [5 punti]\n",
    "\n",
    "- Calcolare $f(x)$ per il valore di x precedente  a quello individuato dal punto precedente. perturbare questo x del 10% ed indicarlo con xp. Calcolare l'errore relativo di xp rispetto ad x. Cosa si ottiene\n",
    "\n",
    "                                                [1 punto]\n",
    "    \n",
    "- Determinare se la funzione $f(x)$ è numericamente stabile? E nel caso non lo sia individuare la causa della sua instabilità.\n",
    "\n",
    "                                                [2 punti]\n",
    " \n",
    "- Fornire una formula alternativa $g(x)$ algebricamente equivalente ma numericamente più stabile. \n",
    "\n",
    "                                                 [2 punti]\n",
    "- Calcolare l'errore relativo della funzione $f(x)$ rispetto alla funzione $g(x)$ e visuarlo graficamente in scla logaritmica sia sulle ascisse che sulle ordinate\n",
    "\n",
    "                                                [1 punto]"
   ]
  },
  {
   "cell_type": "code",
   "execution_count": 15,
   "id": "7799225e",
   "metadata": {},
   "outputs": [
    {
     "name": "stdout",
     "output_type": "stream",
     "text": [
      "Derivata di f : (s + 0.04)**(-2) - 1/s**2\n",
      " x  \n",
      " [1.e+00 1.e+01 1.e+02 1.e+03 1.e+04 1.e+05 1.e+06 1.e+07 1.e+08 1.e+09\n",
      " 1.e+10 1.e+11 1.e+12 1.e+13 1.e+14 1.e+15 1.e+16 1.e+17 1.e+18 1.e+19\n",
      " 1.e+20]\n",
      " spacing  \n",
      " [2.22044605e-16 1.77635684e-15 1.42108547e-14 1.13686838e-13\n",
      " 1.81898940e-12 1.45519152e-11 1.16415322e-10 1.86264515e-09\n",
      " 1.49011612e-08 1.19209290e-07 1.90734863e-06 1.52587891e-05\n",
      " 1.22070312e-04 1.95312500e-03 1.56250000e-02 1.25000000e-01\n",
      " 2.00000000e+00 1.60000000e+01 1.28000000e+02 2.04800000e+03\n",
      " 1.63840000e+04]\n",
      "condizionamento  [1.96153846 1.99601594 1.99960016 1.99996    1.999996   1.9999996\n",
      " 1.99999996 2.00000006 1.99999999 2.00000257 2.00000086 2.00052087\n",
      " 2.00731911 1.98035137 2.13162821        inf        inf        inf\n",
      "        nan        nan        nan]\n",
      "Errore sui dati  0.1\n",
      "Errore sui risultati  0.09090909090909095\n",
      "Errore relativo  [5.e+01 5.e+02 5.e+03 5.e+04 5.e+05 5.e+06 5.e+07 5.e+08 5.e+09 5.e+10\n",
      " 5.e+11 5.e+12 5.e+13 5.e+14 5.e+15 5.e+16 5.e+17 5.e+18 5.e+19 5.e+20\n",
      " 5.e+21]\n"
     ]
    },
    {
     "name": "stderr",
     "output_type": "stream",
     "text": [
      "C:\\Users\\tommaso.ceredi\\AppData\\Local\\Temp\\ipykernel_14812\\1985452410.py:13: RuntimeWarning: divide by zero encountered in divide\n",
      "  condizionamento=np.abs(df_numerica(x)*x/f_numerica(x))\n",
      "C:\\Users\\tommaso.ceredi\\AppData\\Local\\Temp\\ipykernel_14812\\1985452410.py:13: RuntimeWarning: invalid value encountered in divide\n",
      "  condizionamento=np.abs(df_numerica(x)*x/f_numerica(x))\n"
     ]
    },
    {
     "data": {
      "text/plain": [
       "[<matplotlib.lines.Line2D at 0x14ccf68a6e0>]"
      ]
     },
     "execution_count": 15,
     "metadata": {},
     "output_type": "execute_result"
    },
    {
     "data": {
      "image/png": "[encoded data removed]",
      "text/plain": [
       "<Figure size 432x288 with 1 Axes>"
      ]
     },
     "metadata": {
      "needs_background": "light"
     },
     "output_type": "display_data"
    }
   ],
   "source": [
    "# Primo punto\n",
    "x=10.0**np.arange(21)           #utilizzo 10.0 per avere un numpy array x con dtype float\n",
    "f = lambda x: 1/x+1/(x+0.04)\n",
    "fx=f(x)\n",
    "\n",
    "# Secondo punto\n",
    "s=sym.symbols('s')\n",
    "fs=1/s-1/(s+0.04) # definisco la funzione simbolica fs\n",
    "dfs=sym.diff(fs,s,1) # definisco la derivata prima simbolica dfs\n",
    "print( \"Derivata di f : {}\".format(dfs))\n",
    "df_numerica= lambdify(s,dfs,np) # definisco la derivata prima numerica df_numerica\n",
    "f_numerica=lambdify(s,fs,np) # definisco la funzione numerica f_numerica\n",
    "condizionamento=np.abs(df_numerica(x)*x/f_numerica(x)) # calcolo l'indice di condizionamento\n",
    "spacing=np.spacing(x) # calcolo lo spacing (distanza tra due numeri consecutivi) di x\n",
    "print(\" x \",'\\n', x)\n",
    "print(\" spacing \",'\\n', spacing)\n",
    "print(\"condizionamento \", condizionamento)\n",
    "# l'indice di condizionamento è molto grande da x=10**15 in poi.\n",
    "# L'indice di condizionamento di un problema è una misura della sensibilità o della stabilità numerica di un calcolo o di un algoritmo rispetto alle perturbazioni nei dati di input. \n",
    "#   Esso fornisce una stima di quanto i risultati di un problema possono variare in risposta a piccole variazioni o errori nei dati di input.\n",
    "# In generale, l'indice di condizionamento quantifica quanto un problema sia \"ben condizionato\" o \"mal condizionato\". \n",
    "#   Un problema ben condizionato ha un indice di condizionamento basso, il che significa che anche piccole perturbazioni nei dati di input generano solo piccole variazioni nei risultati. \n",
    "#   D'altra parte, un problema mal condizionato ha un indice di condizionamento elevato, il che significa che anche piccole perturbazioni nei dati di input possono causare variazioni significative nei risultati.\n",
    "\n",
    "# Terzo punto\n",
    "xx=1e14\n",
    "fxx=f(xx)\n",
    "xxp=xx+0.1*xx # xxp è la perturbazione di xx\n",
    "err_d=abs(xx-xxp)/abs(xx) # errore sui dati\n",
    "fxxp=f(xxp) # fxxp è il risultato della funzione f(x) calcolata in xxp\n",
    "err_f=abs(fxxp-fxx)/abs(fxx) # errore sui risultati\n",
    "print(\"Errore sui dati \",err_d)\n",
    "print(\"Errore sui risultati \",err_f)\n",
    "\n",
    "# Quarto punto\n",
    "# La funzione f(x) non è numericamente stabile, perchè per alcuni dei valori in cui la calcoliamo, si ha una somma algebrica di numeri molto vicini tra loro in modulo e con segno opposto che porta alla cancellazione di cifre significative.\n",
    "\n",
    "# Quinto punto\n",
    "g = lambda x: 0.04/(x*(x+0.04)) # definisco la funzione g(x) numericamente stabile\n",
    "#Calcoliamo l'errore relativo di f(x) rispetto alla formula equivalente ma numericamente stabile g(x)\n",
    "Erelx=np.abs(f(x)-g(x))/np.abs(g(x))\n",
    "print(\"Errore relativo \",Erelx)\n",
    "plt.loglog(x,Erelx,'b-')"
   ]
  },
  {
   "cell_type": "markdown",
   "id": "6889498e-b2a3-4daf-a34e-5110f86e32ee",
   "metadata": {},
   "source": [
    "## Esercizo 2\n",
    "Si consideri il sistema lineare Ax=b, con A matrice e b termine noto memorizzati nel file ``testC.mat.mat``.  Risolvere il sistema utilizzando il metodo più adatto al problema proposto. Argomentare dal punto di vista teorico la scelta fatta e commentare i risultati ottenuti  giustificandoli alla luce della teoria. \n",
    "\n",
    "\n",
    "La soluzione esatta del sistema lineare è il vettore x=[1,1,1,1...1 1].\n",
    "\n",
    "Per la lettura dei dati procedere nel seguente modo:\n",
    "\n",
    "``from scipy.io import loadmat``\n",
    "\n",
    "``import numpy as np``\n",
    "\n",
    "``dati = loadmat('testC.mat')``\n",
    "\n",
    "``A=dati[\"A\"] ``\n",
    "\n",
    "`` b=dati[\"b\"] ``\n",
    "\n",
    "\n",
    "                                                       \n",
    "                                               [13 punti]"
   ]
  },
  {
   "cell_type": "code",
   "execution_count": 7,
   "id": "d9addba3-eb59-48b9-81bd-71f6ce99ac21",
   "metadata": {},
   "outputs": [
    {
     "name": "stdout",
     "output_type": "stream",
     "text": [
      "Numero di righe e colonne della matrice A  34 34\n",
      "Percentuale elementi diversi da zero  100.0 %\n",
      "La matrice è simmetrica\n",
      "Numero di condizionamento della matrice A  240857724114.8698\n",
      "Errore relativo  0.0004889684641108205 %\n",
      "Errore relativo  0.0012085102772797984 %\n"
     ]
    }
   ],
   "source": [
    "# Importo i dati\n",
    "dati = loadmat('testC.mat')\n",
    "A=dati[\"A\"] \n",
    "b=dati[\"b\"]\n",
    "# calcolo il numero di righe e colonne della matrice A\n",
    "n,m=A.shape\n",
    "print(\"Numero di righe e colonne della matrice A \",n,m)\n",
    "# controllo se la matrice è densa o sparsa\n",
    "nz=np.count_nonzero(A)/(n*m)\n",
    "perc_nz=nz*100\n",
    "print(\"Percentuale elementi diversi da zero \",perc_nz,\"%\") # La matrice è piccola e densa\n",
    "# Controllo se la matrice è simmetrica\n",
    "if (A.transpose()==A).all():\n",
    "    print(\"La matrice è simmetrica\")\n",
    "# Controllo se la matrice è definita positiva\n",
    "if np.all(np.linalg.eigvals(A) > 0):\n",
    "    print(\"La matrice è definita positiva\")\n",
    "# Calcolo il numero di condizionamento della matrice A\n",
    "condA=np.linalg.cond(A)\n",
    "print(\"Numero di condizionamento della matrice A \",condA)\n",
    "# Dato che la matrice è simmetrica ma non positiva definita, il numero di condizionamento è molto grande e quindi il problema è mal condizionato.\n",
    "#   Deduco che è meglio utilizzare la fattorizzazione QR che è più stabile della fattorizzazione LU.\n",
    "# La stabilità di un metodo di fattorizzazione si riferisce alla capacità di un algoritmo di fattorizzazione di mantenere la precisione numerica e di produrre risultati accurati anche in presenza di errori di arrotondamento.\n",
    "xesatta=np.ones_like(b) # vettore soluzione esatta\n",
    "Q,R=spl.qr(A) # fattorizzazione QR\n",
    "yy=Q.T@b # calcolo il prodotto matrice vettore\n",
    "xqr,flag=utils.Usolve(R,yy) # risolvo il sistema lineare\n",
    "err_rel=np.linalg.norm(xqr-xesatta)/np.linalg.norm(xesatta) # calcolo l'errore relativo\n",
    "print(\"Errore relativo \",err_rel*100,\"%\")\n",
    "\n",
    "# Risolvo il sistema lineare con la fattorizzazione LU per dimostrare che è instabile\n",
    "PT,L,U=spl.lu(A) # fattorizzazione LU\n",
    "P=PT.T\n",
    "y,flag=utils.Lsolve(L,P@b) # risolvo il sistema lineare\n",
    "if flag==0:\n",
    "    xlu,flag=utils.Usolve(U,y) # risolvo il sistema lineare\n",
    "    err_rel=np.linalg.norm(xlu-xesatta)/np.linalg.norm(xesatta) # calcolo l'errore relativo\n",
    "    print(\"Errore relativo \",err_rel*100,\"%\")\n"
   ]
  }
 ],
 "metadata": {
  "kernelspec": {
   "display_name": "py310",
   "language": "python",
   "name": "python3"
  },
  "language_info": {
   "codemirror_mode": {
    "name": "ipython",
    "version": 3
   },
   "file_extension": ".py",
   "mimetype": "text/x-python",
   "name": "python",
   "nbconvert_exporter": "python",
   "pygments_lexer": "ipython3",
   "version": "3.10.8 | packaged by conda-forge | (main, Nov 24 2022, 14:07:00) [MSC v.1916 64 bit (AMD64)]"
  },
  "vscode": {
   "interpreter": {
    "hash": "30eef1dcfb837675ec28ded3b62cbdc631b763468d0e57f04da975e3db11727d"
   }
  }
 },
 "nbformat": 4,
 "nbformat_minor": 5
}
