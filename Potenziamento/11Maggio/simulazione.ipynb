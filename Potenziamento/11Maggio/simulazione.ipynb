{
 "cells": [
  {
   "cell_type": "code",
   "execution_count": 13,
   "id": "2406f452",
   "metadata": {},
   "outputs": [],
   "source": [
    "import scipy\n",
    "from scipy.io import loadmat\n",
    "import numpy as np\n",
    "import matplotlib.pyplot as plt\n",
    "import RisolviSis as utils"
   ]
  },
  {
   "cell_type": "markdown",
   "id": "b1592f9b-6fb5-4bbf-ac5a-dba7efe13be7",
   "metadata": {},
   "source": [
    "## Esercizo 1\n",
    "Si consideri il sistema lineare Ax=b, con A matrice e b termine noto memorizzati nel file ``Dati0.mat``.  Risolvere il sistema utilizzando il metodo più adatto al problema proposto e commentare i risultati ottenuti  giustificandoli alla luce della teoria. \n",
    "\n",
    "Per la lettura dei dati procedere nel seguente modo:\n",
    "\n",
    "``from scipy.io import loadmat``\n",
    "\n",
    "``import numpy as np``\n",
    "\n",
    "``dati = loadmat('Dati0.mat')``\n",
    "\n",
    "``A=dati[\"A\"] ``\n",
    "\n",
    "`` b=dati[\"b\"] ``"
   ]
  },
  {
   "cell_type": "code",
   "execution_count": 2,
   "id": "e2dc60f4",
   "metadata": {},
   "outputs": [],
   "source": [
    "def gauss_seidel(A,b,x0,toll,it_max):\n",
    "    errore=1000\n",
    "    d=np.diag(A)\n",
    "    D=np.diag(d)\n",
    "    E=np.tril(A,-1)\n",
    "    F=np.triu(A,1)\n",
    "    M=D+E\n",
    "    N=-F\n",
    "    T=np.dot(np.linalg.inv(M),N)\n",
    "    autovalori=np.linalg.eigvals(T)\n",
    "    raggiospettrale=np.max(np.abs(autovalori))\n",
    "    print(\"raggio spettrale Gauss-Seidel \",raggiospettrale)\n",
    "    it=0\n",
    "    er_vet=[]\n",
    "    while it<=it_max and errore>=toll:\n",
    "        temp=b-np.dot(F,x0)\n",
    "        x,flag=utils.Lsolve(M,temp)\n",
    "        errore=np.linalg.norm(x-x0)/np.linalg.norm(x)\n",
    "        er_vet.append(errore)\n",
    "        x0=x.copy()\n",
    "        it=it+1\n",
    "    return x,it,er_vet"
   ]
  },
  {
   "cell_type": "code",
   "execution_count": 4,
   "id": "6099ee1d",
   "metadata": {},
   "outputs": [
    {
     "name": "stdout",
     "output_type": "stream",
     "text": [
      "(20, 20)\n",
      "1.0\n",
      "Matrice simmetrica\n",
      "raggio spettrale Gauss-Seidel  578691160.95354\n"
     ]
    },
    {
     "name": "stderr",
     "output_type": "stream",
     "text": [
      "C:\\Users\\tommaso.ceredi\\AppData\\Local\\Temp\\ipykernel_8808\\3355856806.py:18: RuntimeWarning: invalid value encountered in double_scalars\n",
      "  errore=np.linalg.norm(x-x0)/np.linalg.norm(x)\n"
     ]
    },
    {
     "data": {
      "image/png": "[encoded data removed]",
      "text/plain": [
       "<Figure size 432x288 with 1 Axes>"
      ]
     },
     "metadata": {
      "needs_background": "light"
     },
     "output_type": "display_data"
    },
    {
     "name": "stderr",
     "output_type": "stream",
     "text": [
      "c:\\Anaconda3\\envs\\py310\\lib\\site-packages\\numpy\\core\\shape_base.py:65: VisibleDeprecationWarning: Creating an ndarray from ragged nested sequences (which is a list-or-tuple of lists-or-tuples-or ndarrays with different lengths or shapes) is deprecated. If you meant to do this, you must specify 'dtype=object' when creating the ndarray.\n",
      "  ary = asanyarray(ary)\n"
     ]
    },
    {
     "data": {
      "image/png": "[encoded data removed]",
      "text/plain": [
       "<Figure size 432x288 with 1 Axes>"
      ]
     },
     "metadata": {
      "needs_background": "light"
     },
     "output_type": "display_data"
    }
   ],
   "source": [
    "dati = loadmat('Dati0.mat')\n",
    "A = dati['A']\n",
    "b = dati['b']\n",
    "print(A.shape)\n",
    "plt.spy(A)\n",
    "print(np.count_nonzero(A) / (A.shape[0] * A.shape[1])) # densità di A (numero di elementi non nulli)\n",
    "\n",
    "n = A.shape[0]\n",
    "# calcolo se è simmetrica\n",
    "if (A.all() == A.T.all()):\n",
    "    print('Matrice simmetrica')\n",
    "# calcolo gli autovalori\n",
    "autovalori = np.linalg.eigvals(A)\n",
    "if (np.all(autovalori > 0)):\n",
    "    print('Matrice definita positiva')\n",
    "\n",
    "# se la matrice è simmetrica e definita positiva allora posso usare il metodo di Gauss-Seidel o del gradiente o gradiente coniugato\n",
    "x0=np.zeros((n,1))\n",
    "itmax=100\n",
    "toll=1e-8\n",
    "x = gauss_seidel(A, b, x0, toll, itmax)\n",
    "plt.show()\n",
    "plt.plot(x)\n",
    "plt.show()\n",
    "    "
   ]
  },
  {
   "cell_type": "markdown",
   "id": "c0245435-e06a-449c-9fbb-3bc5407d3b97",
   "metadata": {},
   "source": [
    "## Esercizio 2"
   ]
  },
  {
   "cell_type": "markdown",
   "id": "e4bc86ad-7d61-4946-9c29-6c681ce11262",
   "metadata": {},
   "source": [
    "La sequenza \n",
    "\n",
    "$$x_1=1$$\n",
    "$$x_n= 2^{n-1} \\left( \\sqrt{1+ \\frac{x_{n-1}}{2^{n-2}} }-1 \\right)    \\quad \\quad n=2,3,...,\\quad (1) $$\n",
    "\n",
    "converge a $log(2)$, cioè  $\\lim_{n \\rightarrow \\infty} x_n= log(2)$\n",
    "\n",
    "- Si calcolino i valori della sequenza (1) per $n=1,..,71$\n",
    "\n",
    "- Costruire un grafico in cui nelle ascisse vi sia  il valore di $n=1,..,71$  e nelle ordinate il corrispondente valore di $x_n$ . \n",
    "\n",
    "- La successione converge a log(2)? In corrispondenza di quale $n$ si verifica un pessimo risultato? Spiegare alla luce della teoria\n",
    "\n",
    "- Manipolando opportunamente la formula (1) scrivere una formula  equivalente  ma piu\\' stabile per ottenere la sequenza $\\tilde x_n$\n",
    "algebricamente equivalente alla (1).\n",
    "\n",
    "- Valutare la formula proposta per calcolare la sequenza $\\tilde x_n $ per $n=1,..,71$\n",
    "\n",
    "- Costruire un grafico in cui nelle ascisse vi sia  il valore di n  e nelle ordinate il corrispondente valore di $\\tilde x_n$ \n",
    "\n",
    "- Calcolare l'errore relativo di ogni $x_n$ rispetto al valore esatto $log(2)$ \n",
    "\n",
    "\n",
    "- Calcolare l'errore relativo di ogni $\\tilde x_n$ rispetto al valore esatto $log(2)$"
   ]
  },
  {
   "cell_type": "code",
   "execution_count": null,
   "id": "cc4e167c",
   "metadata": {},
   "outputs": [],
   "source": []
  },
  {
   "cell_type": "markdown",
   "id": "d6905931-d53b-4b7f-a1ab-e84dd6683bf2",
   "metadata": {},
   "source": [
    "## Esercizo 3\n",
    "Si consideri il sistema lineare Ax=b, con A matrice e b termine noto memorizzati nel file ``Dati1.mat``.  Risolvere il sistema utilizzando il metodo più adatto al problema proposto e commentare i risultati ottenuti  giustificandoli alla luce della teoria. \n"
   ]
  },
  {
   "cell_type": "code",
   "execution_count": 14,
   "id": "bc02d56b",
   "metadata": {},
   "outputs": [
    {
     "name": "stdout",
     "output_type": "stream",
     "text": [
      "(20, 20)\n",
      "densità 100.0 %\n",
      "Matrice simmetrica\n",
      "Matrice definita positiva\n",
      "soluzione [[1.]\n",
      " [1.]\n",
      " [1.]\n",
      " [1.]\n",
      " [1.]\n",
      " [1.]\n",
      " [1.]\n",
      " [1.]\n",
      " [1.]\n",
      " [1.]\n",
      " [1.]\n",
      " [1.]\n",
      " [1.]\n",
      " [1.]\n",
      " [1.]\n",
      " [1.]\n",
      " [1.]\n",
      " [1.]\n",
      " [1.]\n",
      " [1.]]\n"
     ]
    },
    {
     "data": {
      "image/png": "[encoded data removed]",
      "text/plain": [
       "<Figure size 432x288 with 1 Axes>"
      ]
     },
     "metadata": {
      "needs_background": "light"
     },
     "output_type": "display_data"
    }
   ],
   "source": [
    "dati = loadmat('Dati1.mat')\n",
    "A = dati['A']\n",
    "b = dati['b']\n",
    "print(A.shape)\n",
    "plt.spy(A)\n",
    "print(\"densità\",(np.count_nonzero(A) / (A.shape[0] * A.shape[1])) * 100 , \"%\") # densità di A (numero di elementi non nulli)\n",
    "\n",
    "n = A.shape[0]\n",
    "# calcolo se è simmetrica\n",
    "if (A.all() == A.T.all()):\n",
    "    print('Matrice simmetrica')\n",
    "# calcolo gli autovalori\n",
    "autovalori = np.linalg.eigvals(A)\n",
    "if (autovalori.all() > 0):\n",
    "    print('Matrice definita positiva')\n",
    "    \n",
    "# è molto densa quindi la fattorizzo con LU\n",
    "PT,L,U = scipy.linalg.lu(A)\n",
    "P = PT.T\n",
    "y, flag = utils.Lsolve(L, P@b)\n",
    "x, flag = utils.Usolve(U, y)\n",
    "print(\"soluzione\", x)"
   ]
  }
 ],
 "metadata": {
  "kernelspec": {
   "display_name": "py310",
   "language": "python",
   "name": "python3"
  },
  "language_info": {
   "codemirror_mode": {
    "name": "ipython",
    "version": 3
   },
   "file_extension": ".py",
   "mimetype": "text/x-python",
   "name": "python",
   "nbconvert_exporter": "python",
   "pygments_lexer": "ipython3",
   "version": "3.10.8"
  },
  "vscode": {
   "interpreter": {
    "hash": "30eef1dcfb837675ec28ded3b62cbdc631b763468d0e57f04da975e3db11727d"
   }
  }
 },
 "nbformat": 4,
 "nbformat_minor": 5
}
