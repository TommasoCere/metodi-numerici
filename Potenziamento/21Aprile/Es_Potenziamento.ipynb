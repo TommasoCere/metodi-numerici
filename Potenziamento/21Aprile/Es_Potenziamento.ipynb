{
 "cells": [
  {
   "cell_type": "markdown",
   "id": "b9b9c602-2b82-46c1-b936-71253650045c",
   "metadata": {
    "tags": []
   },
   "source": [
    "## ## Esercizio 1  (esercizio 4 dell'esercitazione 7-8)\n",
    "Si implementi una function *solve_nsis(A,B)* per il calcolo della soluzione di un generale sistema lineare $AX = B$, con $X, B$ matrici, che usi la fattorizzazione LU della matrice PA, per risolvere n sistemi lineari: aventi la stessa matrice dei coefficienti A e termine noto l'i-esima colonna della matrice B. \n",
    "Utilizzarla poi per il calcolo dell'inversa delle\n",
    "matrici non singolari\n",
    "$$\n",
    "A=\\left[\n",
    "\\begin{array}{ccc}\n",
    "3 & 5 & 7\\\\\n",
    "2 & 3 & 4\\\\\n",
    "5 & 9 & 11\n",
    "\\end{array}\n",
    "\\right ], \\qquad\n",
    "A=\\left[\n",
    "\\begin{array}{cccc}\n",
    "1 & 2 & 3 & 4\\\\\n",
    "2 & -4 & 6 & 8\\\\\n",
    "-1 & -2 & -3 & -1\\\\\n",
    "5 & 7 & 0 & 1\n",
    "\\end{array}\n",
    "\\right ],\n",
    "$$\n",
    "confrontando i risultati ottenuti con l'output\n",
    "della funzione  *scipy.linalg.inv(A)*"
   ]
  },
  {
   "cell_type": "markdown",
   "id": "808dd17f-566a-4165-8533-ef035c4072e7",
   "metadata": {},
   "source": [
    "Sfruttando la fattorizzazione PA=LU  di una delle matrici del punto precedente, calcolarne il determinante."
   ]
  },
  {
   "cell_type": "markdown",
   "id": "13d1da97-0ee0-4e64-817b-e80a72e6f50f",
   "metadata": {},
   "source": [
    "Dire sarebbe stato possibile calcolare la fattorizzazione A=LU delle due matrici del punto precedente (cioè utilizzare la fattorizzazione LU senza scambio di righe)"
   ]
  },
  {
   "cell_type": "code",
   "execution_count": 25,
   "id": "3b0491ce",
   "metadata": {},
   "outputs": [],
   "source": [
    "import numpy as np\n",
    "import scipy.linalg\n",
    "import RisolviSis as utils"
   ]
  },
  {
   "cell_type": "code",
   "execution_count": 26,
   "id": "a22261c0",
   "metadata": {},
   "outputs": [
    {
     "name": "stdout",
     "output_type": "stream",
     "text": [
      "[[1.]\n",
      " [1.]\n",
      " [1.]]\n"
     ]
    }
   ],
   "source": [
    "L=np.array([[1,0,0],[4,6,0],[7,2,14]])\n",
    "b=np.sum(L,axis=1)\n",
    "x,flag=utils.Lsolve(L,b)\n",
    "print(x)"
   ]
  },
  {
   "cell_type": "code",
   "execution_count": 37,
   "id": "739deb6d",
   "metadata": {},
   "outputs": [],
   "source": [
    "def solve_nsis(A,B):\n",
    "    row, colum = A.shape\n",
    "    if row != colum:\n",
    "        print('errore: matrice non quadrata')\n",
    "        x=[]\n",
    "        return x\n",
    "    C = np.zeros_like(A)\n",
    "    PT,L,U = scipy.linalg.lu(A)\n",
    "    P = PT.T\n",
    "    for i in range(colum):\n",
    "        b = B[:,i]\n",
    "        y, flag = utils.Lsolve(L, P@b)\n",
    "        x, flag = utils.Usolve(U, y)\n",
    "        # appendi x a C come colonna\n",
    "        C[:,i] = x.reshape(colum,)\n",
    "    return C\n",
    "\n",
    "    "
   ]
  },
  {
   "cell_type": "code",
   "execution_count": 40,
   "id": "f81a0ca0",
   "metadata": {},
   "outputs": [
    {
     "name": "stdout",
     "output_type": "stream",
     "text": [
      "ris1 [[-1.5  4.  -0.5]\n",
      " [-1.  -1.   1. ]\n",
      " [ 1.5 -1.  -0.5]]\n",
      "ris1 inv [[-1.5  4.  -0.5]\n",
      " [-1.  -1.   1. ]\n",
      " [ 1.5 -1.  -0.5]]\n",
      "ris2 [[-4.16666667e-01  1.75000000e-01 -6.66666667e-02  2.00000000e-01]\n",
      " [ 2.50000000e-01 -1.25000000e-01  1.30614473e-16 -0.00000000e+00]\n",
      " [-1.38888889e-01  2.50000000e-02 -4.22222222e-01 -6.66666667e-02]\n",
      " [ 3.33333333e-01  0.00000000e+00  3.33333333e-01 -2.31296463e-18]]\n",
      "ris2 inv [[-4.16666667e-01  1.75000000e-01 -6.66666667e-02  2.00000000e-01]\n",
      " [ 2.50000000e-01 -1.25000000e-01  1.14287664e-16  4.08170230e-18]\n",
      " [-1.38888889e-01  2.50000000e-02 -4.22222222e-01 -6.66666667e-02]\n",
      " [ 3.33333333e-01  0.00000000e+00  3.33333333e-01  0.00000000e+00]]\n"
     ]
    }
   ],
   "source": [
    "A1 = np.array([[3,5,7],[2,3,4],[5,9,11]], dtype=float)\n",
    "B1 = np.array([[1,0,0],[0,1,0],[0,0,1]])\n",
    "ris1 = solve_nsis(A1,B1)\n",
    "print(\"ris1\",ris1)\n",
    "print(\"ris1 inv\",np.linalg.inv(A1))\n",
    "\n",
    "A2 = np.array([[1,2,3,4],[2,-4,6,8],[-1,-2,-3,-1],[5,7,0,1]], dtype=float)\n",
    "B2 = np.array([[1,0,0,0],[0,1,0,0],[0,0,1,0],[0,0,0,1]])\n",
    "ris2 = solve_nsis(A2,B2)\n",
    "print(\"ris2\",ris2)\n",
    "print(\"ris2 inv\",np.linalg.inv(A2))"
   ]
  },
  {
   "cell_type": "markdown",
   "id": "73c9750c-6810-48ad-bfc1-14778b8b54d5",
   "metadata": {
    "tags": []
   },
   "source": [
    "## Esercizio 2  (esercizio 6 dell'esercitazione 7-8)\n",
    "Per valori di $n = 4 : 6 : 40$, si consideri il sistema lineare $A_n x = b$ con\n",
    "$A_n$ matrice di Hankel di ordine $n$ di elementi\n",
    "$$\n",
    "a^{(n)}_{i,n+k-i}\n",
    "=\n",
    "\\left \\{\n",
    "\\begin{array}{ll}\n",
    "2^k & \\hbox{se} \\ k > 0,\\\\\n",
    "2^{1/(2-k)} & \\hbox{se} \\ k \\leq 0,\n",
    "\\end{array}\n",
    "\\right .\n",
    "\\qquad\n",
    "i = 1, ..., n, \\ \\  k = i + 1-n, ..., i,\n",
    "$$\n",
    "e $b$ scelto in modo che risulti $x = [1, 1, ..., 1]^T$. Si risolva tale sistema\n",
    "con il metodo di fattorizzazione LU della matrice PA\n",
    "e il metodo di fattorizzazione QR (Q,R  =scipy.linalg.qr(A)).\n",
    "Calcolare gli errori relativi $\\| \\delta x \\|_2/\\|x\\|_2$ da cui sono affette\n",
    "le soluzioni calcolate con i due metodi e produrre, al variare di $n$, un\n",
    "grafico in scala logaritmica ( matplotlib.plyplot.loglog) degli errori relativi calcolati. Che cosa si\n",
    "osserva?"
   ]
  },
  {
   "cell_type": "markdown",
   "id": "09a482de-3f3b-4605-905e-258de1e78e6e",
   "metadata": {
    "tags": []
   },
   "source": [
    "## Esercizio 3 (esercizio 8 dell'esercitazione 5-6)  \n",
    "Si consideri lo sviluppo in serie dell'esponenziale $e^x=1+x+\\frac{1}{2!}x^2+\\frac{1}{3!}x^3+\\cdots =\\sum_{k=0}^\\infty \\frac{x^k}{k!} $. Si calcoli un'approssimazione dell'esponenziale troncando ad N=100 termini la serie, per valori di x che variano da -10 a 10 incluso. Si calcoli  per ogni valore di x l'errore relativo del valore approssimato rispetto al valore esatto, ottenuto mediante la funzione exp della libreria numpy. Cosa si osserva? Pensare ad un algoritmo più stabile ricordando che $e^{-x}=\\frac{1}{e^{|x|}}$."
   ]
  },
  {
   "cell_type": "markdown",
   "id": "b47a17ff-2881-465f-a2ee-d945cae703f6",
   "metadata": {},
   "source": [
    "## Esercizio 4 (Esercizio 6 esercitazione 5-6)\n",
    "\n",
    "Assegnato il sistema lineare $Ax = b$, con\n",
    "$$\n",
    "A =\n",
    "\\left [\n",
    "\\begin{array}{ccc}\n",
    "6 & 63 & 662.2\\\\\n",
    "63 & 662.2 & 6967.8\\\\\n",
    "662.2 & 6967.8 & 73393.5664\n",
    "\\end{array}\n",
    "\\right ], \\qquad\n",
    "b =\n",
    "\\left [\n",
    "\\begin{array}{c}\n",
    "1.1\\\\\n",
    "2.33\\\\\n",
    "1.7\n",
    "\\end{array}\n",
    "\\right ]\n",
    "$$\n",
    "- trovare il vettore soluzione $x$ (usando la la fattorizzazione più opportuna);\n",
    "- perturbare la matrice dei coefficienti della quantità\n",
    "$$\n",
    "\\delta A =\n",
    "0.01 \\, \\ast \\,\n",
    "\\left [ \\begin{array}{ccc}\n",
    "1 & 0 & 0\\\\\n",
    "0 & 0 & 0\\\\\n",
    "0 & 0 & 0\n",
    "\\end{array}\n",
    "\\right ]\n",
    "$$\n",
    "quindi calcolare l'errore relativo sulla soluzione e confrontarlo con la\n",
    "perturbazione relativa sui dati di ingresso. Cosa si osserva?"
   ]
  }
 ],
 "metadata": {
  "kernelspec": {
   "display_name": "py310",
   "language": "python",
   "name": "python3"
  },
  "language_info": {
   "codemirror_mode": {
    "name": "ipython",
    "version": 3
   },
   "file_extension": ".py",
   "mimetype": "text/x-python",
   "name": "python",
   "nbconvert_exporter": "python",
   "pygments_lexer": "ipython3",
   "version": "3.10.8"
  },
  "vscode": {
   "interpreter": {
    "hash": "30eef1dcfb837675ec28ded3b62cbdc631b763468d0e57f04da975e3db11727d"
   }
  }
 },
 "nbformat": 4,
 "nbformat_minor": 5
}
