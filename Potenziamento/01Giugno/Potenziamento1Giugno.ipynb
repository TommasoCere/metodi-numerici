{
 "cells": [
  {
   "cell_type": "markdown",
   "id": "6d86d5aa-2f18-4885-a855-b5d19295fe25",
   "metadata": {},
   "source": [
    "## Laboratorio di Potenziamento 1 Giugno 2023"
   ]
  },
  {
   "cell_type": "code",
   "execution_count": 1,
   "id": "4e2c0c7e",
   "metadata": {},
   "outputs": [],
   "source": [
    "import numpy as np\n",
    "import matplotlib.pyplot as plt\n",
    "import sympy as sym\n",
    "from sympy.utilities.lambdify import lambdify\n",
    "\n",
    "from scipy.io import loadmat\n",
    "import scipy.linalg as spl\n",
    "import RisolviSis as utils\n",
    "\n",
    "import math"
   ]
  },
  {
   "cell_type": "markdown",
   "id": "04cd5002-cb08-44e0-bc9f-72c54e3f3ee0",
   "metadata": {
    "tags": []
   },
   "source": [
    "## Esercizio 1\n",
    "Si consideri il sistema lineare Ax=b, con A matrice e b termine noto memorizzati nel file ``testE.mat``.  La soluzione esatta del problema è il vettore x=[1,1,1,...1].Risolvere il sistema utilizzando i diversi metodi adatti visti a lezione adatti per risolverlo ed individuare il metodo più efficiente. Commentare i risultati ottenuti  giustificandoli alla luce della teoria. \n",
    "\n",
    "Per la lettura dei dati procedere nel seguente modo:\n",
    "\n",
    "``from scipy.io import loadmat``\n",
    "\n",
    "``import numpy as np``\n",
    "\n",
    "``dati = loadmat('testE.mat')``\n",
    "\n",
    "``A=dati[\"A\"] ``\n",
    "\n",
    "`` b=dati[\"b\"] ``"
   ]
  },
  {
   "cell_type": "code",
   "execution_count": 12,
   "id": "9617694b",
   "metadata": {},
   "outputs": [
    {
     "name": "stdout",
     "output_type": "stream",
     "text": [
      "Numero di righe:  100  Numero di colonne:  100\n",
      "Percentuale di elementi non nulli:  2.98 %\n",
      "La matrice non è simmetrica\n",
      "La matrice è definita positiva\n",
      "La matrice è a diagonale dominante:  True\n",
      "raggio spettrale jacobi 0.9997193113493894\n",
      "raggio spettrale Gauss-Seidel  0.9994387014848923\n",
      "raggio spettrale Gauss-Seidel SOR  0.9986899761478689\n",
      "soluzione jacobi 36047\n",
      "soluzione gauss 19259\n",
      "soluzione gauss sor 14183\n"
     ]
    },
    {
     "data": {
      "text/plain": [
       "[<matplotlib.lines.Line2D at 0x2a9236c90f0>,\n",
       " <matplotlib.lines.Line2D at 0x2a9237548e0>,\n",
       " <matplotlib.lines.Line2D at 0x2a923754880>]"
      ]
     },
     "execution_count": 12,
     "metadata": {},
     "output_type": "execute_result"
    },
    {
     "data": {
      "image/png": "[encoded data removed]",
      "text/plain": [
       "<Figure size 432x288 with 1 Axes>"
      ]
     },
     "metadata": {
      "needs_background": "light"
     },
     "output_type": "display_data"
    }
   ],
   "source": [
    "dati = loadmat('testE.mat')\n",
    "A=dati['A']\n",
    "b=dati['b']\n",
    "# calcolo il numero di righe e di colonne della matrice A\n",
    "n,m = A.shape\n",
    "print(\"Numero di righe: \",n , \" Numero di colonne: \", m)\n",
    "# controllo se la matrice è densa o sparsa\n",
    "nz = np.count_nonzero(A)/(n*m)\n",
    "perc_nz = nz*100\n",
    "print(\"Percentuale di elementi non nulli: \", perc_nz, \"%\") # matrice sparsa\n",
    "# Controllo se la matrice è simmetrica\n",
    "if (A.transpose() == A).all():\n",
    "    print(\"La matrice è simmetrica\")\n",
    "else :\n",
    "    print(\"La matrice non è simmetrica\")\n",
    "# Controllo se la matrice è definita positiva\n",
    "if np.all(np.linalg.eigvals(A) > 0):\n",
    "    print(\"La matrice è definita positiva\")\n",
    "else :\n",
    "    print(\"La matrice non è definita positiva\")\n",
    "# La matrice non è simmetrica e ma è definita positiva quindi controllo se è a diagonale dominante\n",
    "def verifica_dd(A):\n",
    "    n=A.shape[0]\n",
    "    flag=True\n",
    "    for i in range(n):\n",
    "        el_diag=np.abs(A[i,i])\n",
    "        sum_extradiag=np.sum(np.abs(A[i,:]))-np.abs(A[i,i])\n",
    "        if el_diag< sum_extradiag:\n",
    "            print(\"Matrice non a diagonale  dominante\")\n",
    "            flag=False\n",
    "            return flag\n",
    "    return flag\n",
    "dd=verifica_dd(A)\n",
    "print(\"La matrice è a diagonale dominante: \",dd)\n",
    "\n",
    "def jacobi(A,b,x0,toll,it_max):\n",
    "    errore=1000\n",
    "    d=np.diag(A)\n",
    "    n=A.shape[0]\n",
    "    invM=np.diag(1/d)\n",
    "    E=np.tril(A,-1)\n",
    "    F=np.triu(A,1)\n",
    "    N=-(E+F)\n",
    "    T=np.dot(invM,N)\n",
    "    autovalori=np.linalg.eigvals(T)\n",
    "    raggiospettrale=np.max(np.abs(autovalori))\n",
    "    print(\"raggio spettrale jacobi\", raggiospettrale)\n",
    "    it=0\n",
    "    #xold=x0.copy()\n",
    "    er_vet=[]\n",
    "    while it<=it_max and errore>=toll:\n",
    "        x=(b+np.dot(N,x0))/d.reshape(n,1)\n",
    "        errore=np.linalg.norm(x-x0)/np.linalg.norm(x)\n",
    "        er_vet.append(errore)\n",
    "        x0=x.copy()\n",
    "        it=it+1\n",
    "    return x,it,er_vet\n",
    "def gauss_seidel(A,b,x0,toll,it_max):\n",
    "    errore=1000\n",
    "    d=np.diag(A)\n",
    "    D=np.diag(d)\n",
    "    E=np.tril(A,-1)\n",
    "    F=np.triu(A,1)\n",
    "    M=D+E\n",
    "    N=-F\n",
    "    T=np.dot(np.linalg.inv(M),N)\n",
    "    autovalori=np.linalg.eigvals(T)\n",
    "    raggiospettrale=np.max(np.abs(autovalori))\n",
    "    print(\"raggio spettrale Gauss-Seidel \",raggiospettrale)\n",
    "    it=0\n",
    "    er_vet=[]\n",
    "    while it<=it_max and errore>=toll:\n",
    "        temp=b-np.dot(F,x0)\n",
    "        x,flag=utils.Lsolve(M,temp)\n",
    "        errore=np.linalg.norm(x-x0)/np.linalg.norm(x)\n",
    "        er_vet.append(errore)\n",
    "        x0=x.copy()\n",
    "        it=it+1\n",
    "    return x,it,er_vet\n",
    "def gauss_seidel_sor(A,b,x0,toll,it_max,omega):\n",
    "    errore=1000\n",
    "    d=np.diag(A)\n",
    "    D=np.diag(d)\n",
    "    Dinv=np.diag(1/d)\n",
    "    E=np.tril(A,-1)\n",
    "    F=np.triu(A,1)\n",
    "    Momega=D+omega*E\n",
    "    Nomega=(1-omega)*D-omega*F\n",
    "    T=np.dot(np.linalg.inv(Momega),Nomega)\n",
    "    autovalori=np.linalg.eigvals(T)\n",
    "    raggiospettrale=np.max(np.abs(autovalori))\n",
    "    print(\"raggio spettrale Gauss-Seidel SOR \", raggiospettrale)\n",
    "    \n",
    "    M=D+E\n",
    "    N=-F\n",
    "    it=0\n",
    "    xold=x0.copy()\n",
    "    xnew=x0.copy()\n",
    "    er_vet=[]\n",
    "    while it<=it_max and errore>=toll:\n",
    "        temp=b-np.dot(F,xold)\n",
    "        xtilde,flag=utils.Lsolve(M,temp)\n",
    "        xnew=(1-omega)*xold+omega*xtilde\n",
    "        errore=np.linalg.norm(xnew-xold)/np.linalg.norm(xnew)\n",
    "        er_vet.append(errore)\n",
    "        xold=xnew.copy()\n",
    "        it=it+1\n",
    "    return xnew,it,er_vet\n",
    "# ora risolvo il sistema con i tre metodi\n",
    "x0=np.zeros(A.shape[0]).reshape(n,1) # vettore iniziale di zeri, il reshape serve per avere un vettore colonna\n",
    "tol=1e-8\n",
    "it_max=100000\n",
    "omega=1.4 # parametro per il metodo SOR che deve essere compreso tra 0 e 2 e per cui si ha un numero di iterazioni minimo\n",
    "sol_jacobi,it_jacobi,er_jacobi=jacobi(A,b,x0,tol,it_max)\n",
    "sol_gauss,it_gauss,er_gauss=gauss_seidel(A,b,x0,tol,it_max)\n",
    "sol_gauss_sor,it_gauss_sor,er_gauss_sor=gauss_seidel_sor(A,b,x0,tol,it_max,omega)\n",
    "print(\"soluzione jacobi\", it_jacobi)\n",
    "print(\"soluzione gauss\", it_gauss)\n",
    "print(\"soluzione gauss sor\", it_gauss_sor)\n",
    "plt.semilogy(np.arange(it_jacobi),er_jacobi,np.arange(it_gauss),er_gauss,np.arange(it_gauss_sor),er_gauss_sor)"
   ]
  },
  {
   "cell_type": "markdown",
   "id": "c7b8f816-f348-44d4-b6f1-239c4ccf84a0",
   "metadata": {},
   "source": [
    "## Esercizio 2 \n",
    "Si consideri il sistema lineare Ax=b, con A matrice e b termine noto memorizzati nel file ``testF.mat``.Risolvere il sistema utilizzando il metodo più adatto. Commentare i risultati ottenuti  giustificandoli alla luce della teoria. \n",
    "\n",
    "Per la lettura dei dati procedere nel seguente modo:\n",
    "\n",
    "``from scipy.io import loadmat``\n",
    "\n",
    "``import numpy as np``\n",
    "\n",
    "``dati = loadmat('testF.mat')``\n",
    "\n",
    "``A=dati[\"A\"] ``\n",
    "\n",
    "`` b=dati[\"b\"] ``"
   ]
  },
  {
   "cell_type": "code",
   "execution_count": 6,
   "id": "d394ff0d",
   "metadata": {},
   "outputs": [
    {
     "name": "stdout",
     "output_type": "stream",
     "text": [
      "Matrice non quadrata, dimensione 50 x 19\n",
      "rango= 15\n",
      "La matrice non ha rango massimo\n",
      "numero di condizionamento 7.369247483328769e+17\n",
      "rango= 15\n",
      "La matrice non è a rango massimo\n",
      "Soluzione nel senso dei minimi quadrati\n",
      "   [[ 8.93308674e-01]\n",
      " [ 5.99593662e-02]\n",
      " [-1.00818890e-04]\n",
      " [ 1.00000000e+00]\n",
      " [ 1.00000000e+00]\n",
      " [ 1.00000000e+00]\n",
      " [ 1.00000000e+00]\n",
      " [ 1.00000000e+00]\n",
      " [ 1.00000000e+00]\n",
      " [ 1.00000000e+00]\n",
      " [ 1.00000000e+00]\n",
      " [ 1.00000000e+00]\n",
      " [ 1.00000000e+00]\n",
      " [ 1.00000000e+00]\n",
      " [ 1.00000000e+00]\n",
      " [ 1.08594726e+00]\n",
      " [ 1.16319260e+00]\n",
      " [ 9.47694272e-01]\n",
      " [ 9.09857191e-01]]\n",
      "residuo  4.3087582643171665e-27\n",
      "Norma soluzione  4.130358162106168\n"
     ]
    }
   ],
   "source": [
    "dati = loadmat('testF.mat')\n",
    "A=dati['A']\n",
    "b=dati['b']\n",
    "# calcolo il numero di righe e colonne della matrice\n",
    "n,m=A.shape\n",
    "if n==m:\n",
    "    print(\"Matrice quadrata, dimensione\", n ,\"x\", m)\n",
    "else:\n",
    "    print(\"Matrice non quadrata, dimensione\", n ,\"x\", m)\n",
    "# la matrice non è quadrata quindi verifico se la matrice è a rango massimo\n",
    "U,s,VT=spl.svd(A)  #Attenzione : Restituisce U, Sigma e VT=VTrasposta)\n",
    "thresh= np.spacing(1)*m*s[0] #m=max(m,n)\n",
    "k=np.count_nonzero(s>thresh) #Calcolo del rango della matrice, numero dei valori singolari diversi maggiori della soglia\n",
    "print(\"rango=\",k)\n",
    "if k<n:\n",
    "    print(\"La matrice non ha rango massimo\")\n",
    "else:\n",
    "    print(\"La matrice ha rango massimo\")\n",
    "# controllo se è mal condizionata\n",
    "cond=np.linalg.cond(A)\n",
    "print(\"numero di condizionamento\", cond) # è mal condizionata\n",
    "\n",
    "# dato che la matrice è mal condizionata, uso SVD per risolvere il sistema\n",
    "def SVDLS(A,b):\n",
    "    n=A.shape[1]  # numero di colonne di A\n",
    "    U,s,VT=spl.svd(A)  #Attenzione : Restituisce U, Sigma e VT=VTrasposta)\n",
    "    V=VT.T\n",
    "     \n",
    "    thresh=np.spacing(1)*m*s[0] \n",
    "    ##Calcolo del rango della matrice, numero dei valori singolari maggiori di una soglia\n",
    "    k=np.count_nonzero(s>thresh)\n",
    "    print(\"rango=\",k)\n",
    "    if k<n:\n",
    "        print(\"La matrice non è a rango massimo\")\n",
    "    else:\n",
    "        print(\"La matrice è a rango massimo\")\n",
    "    d=U.T@b\n",
    "    d1=d[:k].reshape(k,1)\n",
    "    s1=s[:k].reshape(k,1)\n",
    "    #Risolve il sistema diagonale di dimensione kxk avene come matrice dei coefficienti la matrice Sigma\n",
    "    c=d1/s1\n",
    "    x=V[:,:k]@c \n",
    "    residuo=np.linalg.norm(d[k:])**2\n",
    "    return x,residuo\n",
    "\n",
    "x,residuo=SVDLS(A,b)\n",
    "print(\"Soluzione nel senso dei minimi quadrati\\n  \", x)\n",
    "print(\"residuo \",residuo)\n",
    "print(\"Norma soluzione \", np.linalg.norm(x))"
   ]
  },
  {
   "cell_type": "code",
   "execution_count": 3,
   "id": "c4c550e3",
   "metadata": {},
   "outputs": [],
   "source": [
    "def qrLS(A,b):\n",
    "    n=A.shape[1]  # numero di colonne di A\n",
    "    Q,R=spl.qr(A)\n",
    "    h=Q.T@b\n",
    "    x,flag=utils.Usolve(R[0:n,:],h[0:n])\n",
    "    residuo=np.linalg.norm(h[n:])**2\n",
    "    return x,residuo"
   ]
  },
  {
   "cell_type": "code",
   "execution_count": 4,
   "id": "017e5be5",
   "metadata": {},
   "outputs": [],
   "source": [
    "def eqnorm(A,b):\n",
    "    G=A.T@A\n",
    "    print(\"Indice di condizionamento di G \",np.linalg.cond(G))\n",
    "    f=A.T@b\n",
    "    L=spl.cholesky(G,lower=True)\n",
    "    y,flag=utils.Lsolve(L,f)\n",
    "    if flag==0:\n",
    "        x,flag=utils.Usolve(L.T,y)\n",
    "    return x"
   ]
  },
  {
   "cell_type": "markdown",
   "id": "5d267660-f6e6-42aa-a6f1-86203047668e",
   "metadata": {},
   "source": [
    "## Esercizio 3"
   ]
  },
  {
   "cell_type": "markdown",
   "id": "3429a399-3b2b-4f5d-9e5c-0d407fd88fbc",
   "metadata": {},
   "source": [
    "Caricare dal  file  Approx_C.mat  le coppie di dati sperimentali (x(i),y(i)),i=1,M) e visto il trend dei dati, scegliere opportunamente  il grado del polinomio con cui approssimare  i dati. Costruirlo con un metodo di approssimazione nel senso dei minimi quadrati a scelta tra quello più opportuno allaluce della teoria, calcolare la norma 2 al quadrato del residuo e visualizzare  il grafico.\n",
    "\n"
   ]
  },
  {
   "cell_type": "code",
   "execution_count": 7,
   "id": "43d3e01d",
   "metadata": {},
   "outputs": [
    {
     "name": "stdout",
     "output_type": "stream",
     "text": [
      "Matrice dimensione 25 x 1\n",
      "rango matrice 4 condizionamento 138.0410649852687\n",
      "residuo  28054.66293085902\n"
     ]
    },
    {
     "data": {
      "text/plain": [
       "[<matplotlib.lines.Line2D at 0x16d55fab520>]"
      ]
     },
     "execution_count": 7,
     "metadata": {},
     "output_type": "execute_result"
    },
    {
     "data": {
      "image/png": "[encoded data removed]",
      "text/plain": [
       "<Figure size 432x288 with 1 Axes>"
      ]
     },
     "metadata": {
      "needs_background": "light"
     },
     "output_type": "display_data"
    }
   ],
   "source": [
    "dati = loadmat('Approx_C.mat')\n",
    "A=dati[\"x\"]\n",
    "b=dati[\"y\"]\n",
    "n,m=A.shape\n",
    "print(\"Matrice dimensione\", n ,\"x\", m)\n",
    "A=A.reshape(n,)\n",
    "b=b.reshape(n,)\n",
    "plt.plot(A,b,'ro')\n",
    "# analizzando il trend dei dati, si può ovvervare che ha un andamento di un polinomio di grado 3\n",
    "n=3\n",
    "n1=n+1\n",
    "A3=np.vander(A,increasing=True)[:,:n1]\n",
    "print(\"rango matrice\", np.linalg.matrix_rank(A3), \"condizionamento\", np.linalg.cond(A3))\n",
    "#La matrice A è a rango massimo e mediamente mal condizionata,\n",
    "#la matrice A^T A, avraà indice di condizionamento il quadrato dell'indice di condizionamento\n",
    "#di A, per cui uso il metodo QR\n",
    "alpha,residuo=qrLS(A3,b)\n",
    "print(\"residuo \",residuo)\n",
    "xx=np.linspace(np.min(A),np.max(A),200)\n",
    "polQR=np.polyval(np.flip(alpha),xx)\n",
    "plt.plot(xx,polQR,'b')"
   ]
  },
  {
   "cell_type": "markdown",
   "id": "02ba2e95-b170-40b6-961c-a51445f3314a",
   "metadata": {},
   "source": [
    "## Esercizio 4\n",
    "Siano assegnati i punti del piano di coordinate $(x_i, y_i)$, $i=1,\\ldots,4$ con \n",
    "$$\n",
    "\\begin{array}{c}\n",
    "x_1=0, \\quad x_2=4, \\quad x_3=0, \\quad x_4=5\\\\\n",
    "y_1=0, \\quad y_2=0, \\quad y_3=4, \\quad y_4=6.\n",
    "\\end{array}\n",
    "$$ \n"
   ]
  },
  {
   "cell_type": "markdown",
   "id": "2e482dde-6239-4a0b-82e5-4fed687c987f",
   "metadata": {},
   "source": [
    " si costruisca il sistema lineare sovradeterminato ottenuto imponendo il passaggio della circonferenza di equazione $x^2+y^2+a_1x+a_2y+a_3=0$ per i quattro punti assegnati, e si denotino con ${\\bf A}$ e ${\\bf b}$ la matrice dei coefficienti e il termine noto ottenuti;"
   ]
  },
  {
   "cell_type": "markdown",
   "id": "9990b89e-5c4f-40e2-862c-12a7ab46178a",
   "metadata": {},
   "source": [
    "si sfrutti il metodo  più opportuno per ottenere la soluzione ${\\bf a}^*$ del problema ai minimi quadrati $\\min_{{\\bf a} \\in \\mathbb{R}^3} \\|{\\bf A}{\\bf a}-{\\bf b}\\|_2^2$;"
   ]
  },
  {
   "cell_type": "markdown",
   "id": "1965ff3d-7b7b-4513-90c0-4a6bb1531191",
   "metadata": {},
   "source": [
    "si calcoli il valore di $\\|{\\bf A}{\\bf a}^*-{\\bf b}\\|_2^2$ e, dopo averne determinato centro e raggio, si rappresentino in una stessa figura la circonferenza di equazione $x^2+y^2+a^*_1x+a^*_2y+a^*_3=0$ (individuata dalla soluzione ${\\bf a}^*$ del problema ai minimi quadrati) e i quattro punti assegnati dal problema."
   ]
  },
  {
   "cell_type": "markdown",
   "id": "848567a4-847f-4fe8-9e21-340e9e989f56",
   "metadata": {},
   "source": [
    "Si ricorda che data una circonferenza nella forma canonica\n",
    "$$ x^2+y^2+a_1 x+a_2 x+a_3=0$$\n",
    "\n",
    "le coordinate del suo centro sono \n",
    "$$C≡(-a_1/2,-a_2/2)$$\n",
    "\n",
    "e la lunghezza del suo raggio è data da:\n",
    "\n",
    "$$r=\\sqrt{\\frac{a_1^2}{4}+\\frac{a_2^2}{4} -a_3}$$\n",
    "\n",
    "e la circoferenza può essere rappresentata in forma parametrica $C(t),  t \\in [0, 2 \\cdot \\pi]$ e le due componenti parametriche sono $$x(t)= C_0+r\\cdot cos(t);$$ $$ y(t)= C_1+r\\cdot sin(t)$$"
   ]
  },
  {
   "cell_type": "code",
   "execution_count": 8,
   "id": "8ba1ab11",
   "metadata": {},
   "outputs": [
    {
     "name": "stdout",
     "output_type": "stream",
     "text": [
      "rango= 3\n",
      "La matrice è a rango massimo\n",
      "Norma 2 al quadrato dell'errore  36.69841269841284\n"
     ]
    },
    {
     "data": {
      "text/plain": [
       "(-1.060972086536924, 6.681792039720543, -0.9948852973554972, 6.748853551323758)"
      ]
     },
     "execution_count": 8,
     "metadata": {},
     "output_type": "execute_result"
    },
    {
     "data": {
      "image/png": "[encoded data removed]",
      "text/plain": [
       "<Figure size 432x288 with 1 Axes>"
      ]
     },
     "metadata": {
      "needs_background": "light"
     },
     "output_type": "display_data"
    }
   ],
   "source": [
    "px=np.array([0,4,0,5])\n",
    "py=np.array([0,0,4,6])\n",
    "#Costruisco il sistema lineare sovradeterminato come richiesto\n",
    "A=np.array([[0,0,1],[4,0,1],[0,4,1],[5,6,1]]) # Matrice dei coefficienti\n",
    "b=np.array([[0],[-16],[-16],[-61]]) # Vettore dei termini noti\n",
    " \n",
    "a,err=SVDLS(A,b) # Risoluzione del sistema lineare sovradeterminato\n",
    "print(\"Norma 2 al quadrato dell'errore \",err)\n",
    "#Calcolo il centro\n",
    "cx=-a[0]/2\n",
    "cy=-a[1]/2\n",
    "#Calcolo il raggio con la formula data\n",
    "r1=math.sqrt((a[0]**2)/4+(a[1]**2)/4-a[2]) # Raggio della circonferenza\n",
    "t=np.linspace(0,2*math.pi,100) # Vettore dei parametri\n",
    "#Costruisco le due componenti parametriche della circonferemza\n",
    "x=cx+r1*np.cos(t)\n",
    "y=cy+r1*np.sin(t)\n",
    "plt.plot(x,y,'r-')\n",
    "plt.plot(px,py,'go')\n",
    "plt.axis('equal')"
   ]
  },
  {
   "cell_type": "markdown",
   "id": "a3eb3ad1-0158-4ffc-9a28-aee767bf4bae",
   "metadata": {},
   "source": [
    "## Esercizio 5\n",
    "Per i dati $(x_i, y_i)$ riportati nei seguenti array\n",
    "\n",
    "x = np.array([0.0004, 0.2507, 0.5008, 2.0007, 8.0013]) \n",
    "\n",
    "y = np.array([0.0007,0.0162, 0.0288, 0.0309, 0.0310])\n",
    "\n",
    "- costruire la retta di regressione;\n",
    "- costruire la parabola approssimante i dati nel senso dei minimi quadrati;\n",
    "- determinare l'approssimazione ai minimi quadrati espressa in termini di\n",
    "basi esponenziali: $y = a + b e^{-x}+ c e^{-2x}$"
   ]
  },
  {
   "cell_type": "markdown",
   "id": "a6336f90-c694-4222-8286-9702558ff2e7",
   "metadata": {},
   "source": [
    "Quale tra le tre approssimazioni risulta la migliore? (Confrontare i grafici e la norma euclidea al quadrato del vettore dei residui)."
   ]
  },
  {
   "cell_type": "markdown",
   "id": "fd68ccff-c369-419e-886d-7685cacb6008",
   "metadata": {},
   "source": [
    "La temperatura T in prossimita' del suolo varia al variare della concentrazione k dell'acido carbonico e della latitudine L. Per k=1.5 la temperatura al suolo subisce una variazione dipendente dalla temperatura secondo la seguente tabella \n",
    "\n",
    "L\t[-55\t-45\t-35\t-25\t-15\t-5\t5\t15\t25\t35\t45\t55\t65]\n",
    "\n",
    "T\t[3.7\t3.7\t3.52\t3.27\t3.2\t3.15\t3.15\t3.25\t3.47\t3.52\t3.65\t3.67\t3.52]\n",
    "\n",
    "Si vuole costruire un MODELLO che descriva la legge T=T(L) anche per latitudini non misurate. \n",
    "Ad esempio si vuole valutare la variazione di temperatura a Londra ( L=51°).\n",
    "mediante interpolazione con un polinomio di grado 12.\n",
    "Valutare e disegnare, inoltre, il polinomio interpolatore di Lagrange in un set di 100 dati equidistanti nell’intervallo min(L), max(L).\n",
    "Descrivere i risultati alla luce della teoria.\n"
   ]
  },
  {
   "cell_type": "code",
   "execution_count": 12,
   "id": "36b61873-df6b-4f52-befd-e6d6ee95e79d",
   "metadata": {},
   "outputs": [
    {
     "name": "stdout",
     "output_type": "stream",
     "text": [
      "Rango di ----> 3\n",
      "Con Condizionamento M -->  18.45808953019451\n",
      "Rango di A1 ---> 2\n",
      "Condizionamento di A1--->  4.663457775986457\n",
      "Indice di condizionamento di G  21.747838428408542\n",
      "Rango di A2 3\n",
      "Condizionamento di A2  65.67493525624798\n",
      "quadrato residuo exp 1.2249733128901829e-05\n",
      "quadrato residuo pol grado 2  0.00023646355940249808\n"
     ]
    },
    {
     "data": {
      "text/plain": [
       "<matplotlib.legend.Legend at 0x16d570abeb0>"
      ]
     },
     "execution_count": 12,
     "metadata": {},
     "output_type": "execute_result"
    },
    {
     "data": {
      "image/png": "[encoded data removed]",
      "text/plain": [
       "<Figure size 432x288 with 1 Axes>"
      ]
     },
     "metadata": {
      "needs_background": "light"
     },
     "output_type": "display_data"
    }
   ],
   "source": [
    "m=5\n",
    "x4 = np.array([0.0004, 0.2507, 0.5008, 2.0007, 8.0013]) \n",
    "y4 = np.array([0.0007,0.0162, 0.0288, 0.0309, 0.0310]) \n",
    "M=np.zeros((5,3))\n",
    "M[:,0]=np.ones((5,)) # Prima colonna di M, vettore di 1\n",
    "M[:,1]=np.exp(-x4) # Seconda colonna di M, esponenziale di grado 1\n",
    "M[:,2]=np.exp(-2*x4) # Terza colonna di M, esponenziale di grado 2\n",
    "\n",
    "print('Rango di ---->' , np.linalg.matrix_rank(M))\n",
    "print(\"Con Condizionamento M --> \",np.linalg.cond(M))\n",
    "#La matrice M è a rango massimo, ha condizionamento 18.45, quindi la marice G delle equazioni\n",
    "#normali (di dimensioni 4x4) avrebbe indice\n",
    "#di condizionamento circa 343. Utilizzo il metodo \n",
    "aexp,resexp=qrLS(M,y4) # Risoluzione con QR\n",
    "\n",
    "xx=np.linspace(np.min(x4),np.max(x4),200) # Genero 200 punti equispaziati tra min e max di x4\n",
    "polexp=aexp[0]+aexp[1]*np.exp(-xx)+aexp[2]*np.exp(-2*xx) # Valuto il polinomio approssimante\n",
    "\n",
    "# Calcolo del polinomio approssimante di grado 1\n",
    "n=1\n",
    "n1=n+1\n",
    "A1=np.vander(x4,increasing=True)[:,:n1] # Matrice di Vandermonde\n",
    "print('Rango di A1 --->',np.linalg.matrix_rank(A1)) \n",
    "print(\"Condizionamento di A1---> \",np.linalg.cond(A1))\n",
    "#Matrice a rango massimo e ben condizionata: uso le equazioni normali\n",
    "alpha1=eqnorm(A1,y4) # Risoluzione con equazioni normali\n",
    "pol1=np.polyval(np.flip(alpha1),xx) # Valuto il polinomio approssimante\n",
    "\n",
    "#Parabola approssimante\n",
    "n=2\n",
    "n1=n+1\n",
    "A2=np.vander(x4,increasing=True)[:,:n1] # Matrice di Vandermonde\n",
    "print('Rango di A2',np.linalg.matrix_rank(A2))\n",
    "print(\"Condizionamento di A2 \",np.linalg.cond(A2))\n",
    "#Matrice a rango massimo e mediamente mal condizionata: uso qr\n",
    "alpha2,res2=qrLS(A2,y4) # Risoluzione con QR\n",
    "pol2=np.polyval(np.flip(alpha2),xx) # Valuto il polinomio approssimante\n",
    "print(\"quadrato residuo exp\",resexp)\n",
    "print(\"quadrato residuo pol grado 2 \",res2)\n",
    "\n",
    "plt.plot(x4,y4,'ro',xx,polexp,'b--',xx,pol1,'g:',xx,pol2,'m-') \n",
    "plt.legend(['Osservazioni','Esponenziale','Polinomio grado 1','Polinomio grado 2'])"
   ]
  }
 ],
 "metadata": {
  "kernelspec": {
   "display_name": "py310",
   "language": "python",
   "name": "python3"
  },
  "language_info": {
   "codemirror_mode": {
    "name": "ipython",
    "version": 3
   },
   "file_extension": ".py",
   "mimetype": "text/x-python",
   "name": "python",
   "nbconvert_exporter": "python",
   "pygments_lexer": "ipython3",
   "version": "3.10.8 | packaged by conda-forge | (main, Nov 24 2022, 14:07:00) [MSC v.1916 64 bit (AMD64)]"
  },
  "vscode": {
   "interpreter": {
    "hash": "30eef1dcfb837675ec28ded3b62cbdc631b763468d0e57f04da975e3db11727d"
   }
  }
 },
 "nbformat": 4,
 "nbformat_minor": 5
}
