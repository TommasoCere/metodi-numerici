{
 "cells": [
  {
   "cell_type": "code",
   "execution_count": 2,
   "metadata": {},
   "outputs": [],
   "source": [
    "import numpy as np\n",
    "import matplotlib.pyplot as plt\n",
    "import sympy as sym\n",
    "from sympy.utilities.lambdify import lambdify\n",
    "\n",
    "from scipy.io import loadmat\n",
    "import scipy.linalg as spl\n",
    "import RisolviSis as utils\n",
    "\n",
    "import math"
   ]
  },
  {
   "cell_type": "code",
   "execution_count": 3,
   "metadata": {},
   "outputs": [],
   "source": [
    "def jacobi(A,b,x0,toll,it_max):\n",
    "    errore=1000\n",
    "    d=np.diag(A)\n",
    "    n=A.shape[0]\n",
    "    invM=np.diag(1/d)\n",
    "    E=np.tril(A,-1)\n",
    "    F=np.triu(A,1)\n",
    "    N=-(E+F)\n",
    "    T=np.dot(invM,N)\n",
    "    autovalori=np.linalg.eigvals(T)\n",
    "    raggiospettrale=np.max(np.abs(autovalori))\n",
    "    print(\"raggio spettrale jacobi\", raggiospettrale)\n",
    "    it=0\n",
    "    #xold=x0.copy()\n",
    "    er_vet=[]\n",
    "    while it<=it_max and errore>=toll:\n",
    "        x=(b+np.dot(N,x0))/d.reshape(n,1)\n",
    "        errore=np.linalg.norm(x-x0)/np.linalg.norm(x)\n",
    "        er_vet.append(errore)\n",
    "        x0=x.copy()\n",
    "        it=it+1\n",
    "    return x,it,er_vet\n",
    "\n",
    "def gauss_seidel(A,b,x0,toll,it_max):\n",
    "    errore=1000\n",
    "    d=np.diag(A)\n",
    "    D=np.diag(d)\n",
    "    E=np.tril(A,-1)\n",
    "    F=np.triu(A,1)\n",
    "    M=D+E\n",
    "    N=-F\n",
    "    T=np.dot(np.linalg.inv(M),N)\n",
    "    autovalori=np.linalg.eigvals(T)\n",
    "    raggiospettrale=np.max(np.abs(autovalori))\n",
    "    print(\"raggio spettrale Gauss-Seidel \",raggiospettrale)\n",
    "    it=0\n",
    "    er_vet=[]\n",
    "    while it<=it_max and errore>=toll:\n",
    "        temp=b-np.dot(F,x0)\n",
    "        x,flag=utils.Lsolve(M,temp)\n",
    "        errore=np.linalg.norm(x-x0)/np.linalg.norm(x)\n",
    "        er_vet.append(errore)\n",
    "        x0=x.copy()\n",
    "        it=it+1\n",
    "    return x,it,er_vet"
   ]
  },
  {
   "cell_type": "code",
   "execution_count": 5,
   "metadata": {},
   "outputs": [
    {
     "name": "stdout",
     "output_type": "stream",
     "text": [
      "Numero di righe:  200  Numero di colonne:  200\n",
      "Percentuale di elementi non nulli:  2.48 %\n",
      "La matrice è simmetrica\n",
      "La matrice è definita positiva\n",
      "Il numero di condizionamento della matrice è:  7.667447334494148\n",
      "La matrice è a diagonale dominante:  True\n",
      "raggio spettrale Gauss-Seidel  0.6323844622504192\n",
      "Numero di iterazioni:  30\n",
      "Errore:  8.111310036607249e-09\n"
     ]
    },
    {
     "data": {
      "image/png": "[encoded data removed]",
      "text/plain": [
       "<Figure size 432x288 with 1 Axes>"
      ]
     },
     "metadata": {
      "needs_background": "light"
     },
     "output_type": "display_data"
    },
    {
     "name": "stdout",
     "output_type": "stream",
     "text": [
      "raggio spettrale jacobi 0.7692515543716639\n",
      "Numero di iterazioni:  50\n",
      "Errore:  9.531620301622235e-09\n"
     ]
    },
    {
     "data": {
      "image/png": "[encoded data removed]",
      "text/plain": [
       "<Figure size 432x288 with 1 Axes>"
      ]
     },
     "metadata": {
      "needs_background": "light"
     },
     "output_type": "display_data"
    }
   ],
   "source": [
    "dati = loadmat('test10.mat')\n",
    "A=dati['A']\n",
    "b=dati['b']\n",
    "# calcolo il numero di righe e di colonne della matrice A\n",
    "n,m = A.shape\n",
    "print(\"Numero di righe: \",n , \" Numero di colonne: \", m)\n",
    "# controllo se la matrice è densa o sparsa\n",
    "nz = np.count_nonzero(A)/(n*m)\n",
    "perc_nz = nz*100\n",
    "print(\"Percentuale di elementi non nulli: \", perc_nz, \"%\") # matrice sparsa\n",
    "# Controllo se la matrice è simmetrica\n",
    "if (A.transpose() == A).all():\n",
    "    print(\"La matrice è simmetrica\")\n",
    "else :\n",
    "    print(\"La matrice non è simmetrica\")\n",
    "# Controllo se la matrice è definita positiva\n",
    "if np.all(np.linalg.eigvals(A) > 0):\n",
    "    print(\"La matrice è definita positiva\")\n",
    "else :\n",
    "    print(\"La matrice non è definita positiva\")\n",
    "# Controllo se la matrice è mal condizionata\n",
    "cond = np.linalg.cond(A)\n",
    "print(\"Il numero di condizionamento della matrice è: \", cond)\n",
    "\n",
    "def verifica_dd(A):\n",
    "    n=A.shape[0]\n",
    "    flag=True\n",
    "    for i in range(n):\n",
    "        el_diag=np.abs(A[i,i])\n",
    "        sum_extradiag=np.sum(np.abs(A[i,:]))-np.abs(A[i,i])\n",
    "        if el_diag< sum_extradiag:\n",
    "            print(\"Matrice non a diagonale  dominante\")\n",
    "            flag=False\n",
    "            return flag\n",
    "    return flag\n",
    "dd=verifica_dd(A)\n",
    "print(\"La matrice è a diagonale dominante: \",dd)\n",
    "    \n",
    "# se la matrice è simmetrica e definita positiva allora posso usare il metodo di Gauss-Seidel\n",
    "x0 = np.zeros( (n,1) )\n",
    "toll = 1e-8\n",
    "it_max = 1000\n",
    "x,it,er_vet = gauss_seidel(A,b,x0,toll,it_max)\n",
    "print(\"Numero di iterazioni: \", it)\n",
    "print(\"Errore: \", er_vet[-1]) # errore dell'ultima iterazione\n",
    "plt.semilogy(er_vet)\n",
    "plt.show()\n",
    "\n",
    "# ora uso il metodo di Jacobi\n",
    "x0 = np.zeros( (n,1) )\n",
    "toll = 1e-8\n",
    "it_max = 1000\n",
    "x,it,er_vet = jacobi(A,b,x0,toll,it_max)\n",
    "print(\"Numero di iterazioni: \", it)\n",
    "print(\"Errore: \", er_vet[-1]) # errore dell'ultima iterazione\n",
    "plt.semilogy(er_vet)\n",
    "plt.show()\n"
   ]
  },
  {
   "cell_type": "code",
   "execution_count": 6,
   "metadata": {},
   "outputs": [
    {
     "name": "stdout",
     "output_type": "stream",
     "text": [
      "Numero di righe:  225  Numero di colonne:  225\n",
      "Percentuale di elementi non nulli:  2.1037037037037036 %\n",
      "La matrice è simmetrica\n",
      "La matrice è definita positiva\n",
      "Il numero di condizionamento della matrice è:  103.08686891981739\n",
      "La matrice è a diagonale dominante:  True\n"
     ]
    }
   ],
   "source": [
    "dati = loadmat('test11.mat')\n",
    "A=dati['A']\n",
    "b=dati['b']\n",
    "# calcolo il numero di righe e di colonne della matrice A\n",
    "n,m = A.shape\n",
    "print(\"Numero di righe: \",n , \" Numero di colonne: \", m)\n",
    "# controllo se la matrice è densa o sparsa\n",
    "nz = np.count_nonzero(A)/(n*m)\n",
    "perc_nz = nz*100\n",
    "print(\"Percentuale di elementi non nulli: \", perc_nz, \"%\") # matrice sparsa\n",
    "# Controllo se la matrice è simmetrica\n",
    "if (A.transpose() == A).all():\n",
    "    print(\"La matrice è simmetrica\")\n",
    "else :\n",
    "    print(\"La matrice non è simmetrica\")\n",
    "# Controllo se la matrice è definita positiva\n",
    "if np.all(np.linalg.eigvals(A) > 0):\n",
    "    print(\"La matrice è definita positiva\")\n",
    "else :\n",
    "    print(\"La matrice non è definita positiva\")\n",
    "# Controllo se la matrice è mal condizionata\n",
    "cond = np.linalg.cond(A)\n",
    "print(\"Il numero di condizionamento della matrice è: \", cond)\n",
    "\n",
    "def verifica_dd(A):\n",
    "    n=A.shape[0]\n",
    "    flag=True\n",
    "    for i in range(n):\n",
    "        el_diag=np.abs(A[i,i])\n",
    "        sum_extradiag=np.sum(np.abs(A[i,:]))-np.abs(A[i,i])\n",
    "        if el_diag< sum_extradiag:\n",
    "            print(\"Matrice non a diagonale  dominante\")\n",
    "            flag=False\n",
    "            return flag\n",
    "    return flag\n",
    "dd=verifica_dd(A)\n",
    "print(\"La matrice è a diagonale dominante: \",dd)"
   ]
  },
  {
   "cell_type": "code",
   "execution_count": 10,
   "metadata": {},
   "outputs": [
    {
     "name": "stdout",
     "output_type": "stream",
     "text": [
      "Numero di righe:  70  Numero di colonne:  10\n",
      "Percentuale di elementi non nulli:  100.0 %\n",
      "Il numero di condizionamento della matrice è:  9.999999999999996\n",
      "Matrice non a diagonale  dominante\n",
      "La matrice è a diagonale dominante:  False\n"
     ]
    }
   ],
   "source": [
    "dati = loadmat('test13.mat')\n",
    "A=dati['A']\n",
    "b=dati['b']\n",
    "# calcolo il numero di righe e di colonne della matrice A\n",
    "n,m = A.shape\n",
    "print(\"Numero di righe: \",n , \" Numero di colonne: \", m)\n",
    "# controllo se la matrice è densa o sparsa\n",
    "nz = np.count_nonzero(A)/(n*m)\n",
    "perc_nz = nz*100\n",
    "print(\"Percentuale di elementi non nulli: \", perc_nz, \"%\") # matrice sparsa\n",
    "# Controllo se la matrice è mal condizionata\n",
    "cond = np.linalg.cond(A)\n",
    "print(\"Il numero di condizionamento della matrice è: \", cond)\n",
    "def verifica_dd(A):\n",
    "    n=A.shape[0]\n",
    "    flag=True\n",
    "    for i in range(n):\n",
    "        el_diag=np.abs(A[i,i])\n",
    "        sum_extradiag=np.sum(np.abs(A[i,:]))-np.abs(A[i,i])\n",
    "        if el_diag< sum_extradiag:\n",
    "            print(\"Matrice non a diagonale  dominante\")\n",
    "            flag=False\n",
    "            return flag\n",
    "    return flag\n",
    "dd=verifica_dd(A)\n",
    "print(\"La matrice è a diagonale dominante: \",dd)"
   ]
  },
  {
   "cell_type": "code",
   "execution_count": 12,
   "metadata": {},
   "outputs": [
    {
     "name": "stdout",
     "output_type": "stream",
     "text": [
      "Numero di righe:  80  Numero di colonne:  15\n",
      "Percentuale di elementi non nulli:  100.0 %\n",
      "Il numero di condizionamento della matrice è:  2.3856247448204716e+16\n",
      "Matrice non a diagonale  dominante\n",
      "La matrice è a diagonale dominante:  False\n"
     ]
    }
   ],
   "source": [
    "dati = loadmat('test14.mat')\n",
    "A=dati['A']\n",
    "b=dati['b']\n",
    "# calcolo il numero di righe e di colonne della matrice A\n",
    "n,m = A.shape\n",
    "print(\"Numero di righe: \",n , \" Numero di colonne: \", m)\n",
    "# controllo se la matrice è densa o sparsa\n",
    "nz = np.count_nonzero(A)/(n*m)\n",
    "perc_nz = nz*100\n",
    "print(\"Percentuale di elementi non nulli: \", perc_nz, \"%\") # matrice sparsa\n",
    "# Controllo se la matrice è mal condizionata\n",
    "cond = np.linalg.cond(A)\n",
    "print(\"Il numero di condizionamento della matrice è: \", cond)\n",
    "\n",
    "def verifica_dd(A):\n",
    "    n=A.shape[0]\n",
    "    flag=True\n",
    "    for i in range(n):\n",
    "        el_diag=np.abs(A[i,i])\n",
    "        sum_extradiag=np.sum(np.abs(A[i,:]))-np.abs(A[i,i])\n",
    "        if el_diag< sum_extradiag:\n",
    "            print(\"Matrice non a diagonale  dominante\")\n",
    "            flag=False\n",
    "            return flag\n",
    "    return flag\n",
    "dd=verifica_dd(A)\n",
    "print(\"La matrice è a diagonale dominante: \",dd)"
   ]
  },
  {
   "cell_type": "code",
   "execution_count": 14,
   "metadata": {},
   "outputs": [
    {
     "name": "stdout",
     "output_type": "stream",
     "text": [
      "Numero di righe:  80  Numero di colonne:  15\n",
      "Percentuale di elementi non nulli:  100.0 %\n",
      "Il numero di condizionamento della matrice è:  1000.000000000002\n",
      "Matrice non a diagonale  dominante\n",
      "La matrice è a diagonale dominante:  False\n"
     ]
    }
   ],
   "source": [
    "dati = loadmat('test15.mat')\n",
    "A=dati['A']\n",
    "b=dati['b']\n",
    "# calcolo il numero di righe e di colonne della matrice A\n",
    "n,m = A.shape\n",
    "print(\"Numero di righe: \",n , \" Numero di colonne: \", m)\n",
    "# controllo se la matrice è densa o sparsa\n",
    "nz = np.count_nonzero(A)/(n*m)\n",
    "perc_nz = nz*100\n",
    "print(\"Percentuale di elementi non nulli: \", perc_nz, \"%\") # matrice sparsa\n",
    "# Controllo se la matrice è mal condizionata\n",
    "cond = np.linalg.cond(A)\n",
    "print(\"Il numero di condizionamento della matrice è: \", cond)\n",
    "\n",
    "def verifica_dd(A):\n",
    "    n=A.shape[0]\n",
    "    flag=True\n",
    "    for i in range(n):\n",
    "        el_diag=np.abs(A[i,i])\n",
    "        sum_extradiag=np.sum(np.abs(A[i,:]))-np.abs(A[i,i])\n",
    "        if el_diag< sum_extradiag:\n",
    "            print(\"Matrice non a diagonale  dominante\")\n",
    "            flag=False\n",
    "            return flag\n",
    "    return flag\n",
    "dd=verifica_dd(A)\n",
    "print(\"La matrice è a diagonale dominante: \",dd)"
   ]
  }
 ],
 "metadata": {
  "kernelspec": {
   "display_name": "py310",
   "language": "python",
   "name": "python3"
  },
  "language_info": {
   "codemirror_mode": {
    "name": "ipython",
    "version": 3
   },
   "file_extension": ".py",
   "mimetype": "text/x-python",
   "name": "python",
   "nbconvert_exporter": "python",
   "pygments_lexer": "ipython3",
   "version": "3.10.8"
  },
  "orig_nbformat": 4,
  "vscode": {
   "interpreter": {
    "hash": "30eef1dcfb837675ec28ded3b62cbdc631b763468d0e57f04da975e3db11727d"
   }
  }
 },
 "nbformat": 4,
 "nbformat_minor": 2
}
