{
 "cells": [
  {
   "cell_type": "markdown",
   "id": "c33c02f5-a85e-4689-bcba-9a00a03dab3c",
   "metadata": {},
   "source": [
    "# Esercitazione 10\n",
    "2 - 5 Maggio 2023"
   ]
  },
  {
   "cell_type": "code",
   "execution_count": 1,
   "id": "664b7b27",
   "metadata": {},
   "outputs": [],
   "source": [
    "import numpy as np\n",
    "import matplotlib.pyplot as plt\n",
    "import scipy.linalg as spLin\n",
    "import RisolviSis"
   ]
  },
  {
   "cell_type": "markdown",
   "id": "f6b59003-c255-41cb-b711-67609181c39e",
   "metadata": {},
   "source": [
    "### Codice EquazioniNormali\n",
    "Implementare la function  **eqnorm(A,b)** che implementa il metodo delle equazioni normali per la soluzione del sistema sovradeterminato Ax=b e che prende in input:\n",
    "- la matrice A di dimensione $m \\times n$ , $m>n$\n",
    "- il termine noto b di ordine m\n",
    "restituisce in output\n",
    "- la soluzione del sistema lineare "
   ]
  },
  {
   "cell_type": "code",
   "execution_count": 2,
   "id": "9a3ab499",
   "metadata": {},
   "outputs": [],
   "source": [
    "def eqnorm(A,b):\n",
    "    \"\"\"Risolve un sistema lineare con matrice A definita positiva\n",
    "\n",
    "    Args:\n",
    "        A: matrice definita positiva\n",
    "        b: termine noto\n",
    "\n",
    "    Returns:\n",
    "        Ritora la soluzione del sistema lineare\n",
    "    \"\"\"\n",
    "    G=A.T@A\n",
    "    y=A.T@b\n",
    "    L=spLin.cholesky(G, lower=True)\n",
    "    z, flag=RisolviSis.Lsolve(L,y)\n",
    "    if flag==0:\n",
    "        x, flag=RisolviSis.Usolve(L.T,z)\n",
    "    \n",
    "    return x"
   ]
  },
  {
   "cell_type": "markdown",
   "id": "cdd19909-e613-455a-a98e-dd5e8175a835",
   "metadata": {},
   "source": [
    "### Codice QRLS\n",
    "Implementare la function  **qrLS(A,b)** che utilizza il metodo QR per la soluzione del sistema sovradeterminato Ax=b e che prende in input:\n",
    "- la matrice A di dimensione $m \\times n$ , $m>n$\n",
    "- il termine noto b di ordine m\n",
    "restituisce in output\n",
    "- la soluzione del sistema lineare e la norma 2 al quadrato del residuo."
   ]
  },
  {
   "cell_type": "code",
   "execution_count": 3,
   "id": "0d81f8f7",
   "metadata": {},
   "outputs": [],
   "source": [
    "def qrLS(A,b):\n",
    "    n=A.shape[1]\n",
    "    Q,R=spLin.qr(A)\n",
    "    h=Q.T@b\n",
    "    x, flag=RisolviSis.Usolve(R[0:n,:],h[0:n])\n",
    "    residuo=np.linalg.norm(h[n:])\n",
    "    return x, residuo"
   ]
  },
  {
   "cell_type": "markdown",
   "id": "5efe494f-3f53-4dfb-8601-fcee7f691691",
   "metadata": {},
   "source": [
    "### Codice SVDLS\n",
    "Implementare la function  **svdLS(A,b)** che utilizza  il metodo SVD per la soluzione del sistema sovradeterminato Ax=b e che prende in input:\n",
    "- la matrice A di dimensione $m \\times n$ , $m>n$\n",
    "- il termine noto b di ordine m\n",
    "restituisce in output\n",
    "- la soluzione del sistema lineare e la norma 2 al quadrato del residuo."
   ]
  },
  {
   "attachments": {},
   "cell_type": "markdown",
   "id": "12228038-aafe-45b0-803b-8ad5d3a2925c",
   "metadata": {},
   "source": [
    "## Esercizio 1\n",
    "- Si utilizzino i tre metodi implementati  per l'approssimazione ai minimi quadrati delle seguenti configurazioni di dati:\n",
    "\n",
    "$$\n",
    "\\begin{array}{l}\n",
    "x_1 = [-3.5, \\, -3, \\, -2, \\, -1.5, \\, -0.5, \\, 0.5, \\, 1.7, \\, 2.5, \\, 3] ;\\\\\n",
    "y_1 = [-3.9, \\, -4.8, \\, -3.3, \\, -2.5, \\, 0.3, \\, 1.8, \\, 4, \\, 6.9, \\, 7.1] ;\\\\\n",
    "x_2 = [-3.14, \\, -2.4, \\, -1.57, \\, -0.7, \\, -0.3, \\, 0, \\, 0.4, \\, 0.7, \\, 1.57] ;\\\\\n",
    "y_2 = [0.02, \\, -1, \\, -0.9, \\, -0.72, \\, -0.2, \\, -0.04, \\, 0.65, \\, 0.67, \\, 1.1] ;\\\\\n",
    "x_3 = [1.001,\\, 1.004,\\, 1.005,\\,1.0012, \\,1.0013,  \\, 1.0014,  \\, 1.0015, \\, 1.0016] ;\\\\\n",
    "y_3 = [-1.2, \\, -0.95, \\, -0.9, \\, -1.15, \\, -1.1, \\, -1] ;\\\\\n",
    "\\end{array}\n",
    "$$\n",
    "\n",
    "al variare del grado $n$ tra 1 e 4.\n",
    "\n"
   ]
  },
  {
   "cell_type": "code",
   "execution_count": 4,
   "id": "320d7082",
   "metadata": {},
   "outputs": [
    {
     "data": {
      "image/png": "[encoded data removed]",
      "text/plain": [
       "<Figure size 432x288 with 1 Axes>"
      ]
     },
     "metadata": {
      "needs_background": "light"
     },
     "output_type": "display_data"
    },
    {
     "name": "stdout",
     "output_type": "stream",
     "text": [
      "Errore di regressione:  2.225897086364276\n",
      "Residuo:  2.2258970863642773\n"
     ]
    }
   ],
   "source": [
    "x = np.array([-3.5, -3, -2, -1.5, -0.5, 0.5, 1.7, 2.5, 3])\n",
    "y = np.array([-3.9, -4.8, -3.3, -2.5, 0.3, 1.8, 4, 6.9, 7.1])\n",
    "m = x.shape[0]\n",
    "n=1 #Grado del polinomio di regressione\n",
    "n1=n+1 #Gradi di libertà del polinomio di grado n (ordine)\n",
    "B=np.vander(x,n1,increasing=True)[:,:n1] #Matrice di Vandermonde, prendiamo solo le prime n1 colonne\n",
    "#a=eqnorm(B,y) #Calcolo dei coefficienti del polinomio di grado n\n",
    "a, residuo=qrLS(B,y)\n",
    "xv=np.linspace(np.min(x), np.max(x), 200) #Valori di x per il grafico\n",
    "pol1=np.polyval(np.flip(a),xv) #Valori del polinomio di grado n nei punti xv\n",
    "plt.plot(xv, pol1, x, y, 'ro')\n",
    "plt.show()\n",
    "\n",
    "errore=np.linalg.norm(y-np.polyval(np.flip(a),x)) #Errore di regressione\n",
    "print('Errore di regressione: ', errore)\n",
    "print('Residuo: ', residuo)"
   ]
  },
  {
   "cell_type": "markdown",
   "id": "a2b6044f-2076-4979-be19-4584ae4857c6",
   "metadata": {},
   "source": [
    "## Esercizio 2: \n",
    "Per i dati $(x_i, y_i)$ riportati nei seguenti array\n",
    "\n",
    "$$\n",
    "\\begin{array}{l}\n",
    "x = [0.0004, \\, 0.2507, \\, 0.5008, \\, 2.0007, \\, 8.0013]  ;\\\\\n",
    "y = [0.0007, \\, 0.0162, \\, 0.0288, \\, 0.0309, \\, 0.0310] ;\n",
    "\\end{array}\n",
    "$$\n",
    "\n",
    "- costruire la retta di regressione;\n",
    "- costruire la parabola approssimante i dati nel senso dei minimi quadrati;\n",
    "\n",
    "Quale tra le due approssimazioni risulta la migliore? (Confrontare i grafici e la norma euclidea al quadrato del vettore dei residui).\n",
    "\n"
   ]
  },
  {
   "cell_type": "markdown",
   "id": "bea991a1-bdea-4496-98ac-4057a3feed66",
   "metadata": {},
   "source": [
    "## Esercizio 3:\n",
    "Scrivere uno script Python per approssimare la seguente configurazione di punti\n",
    "\n",
    "$$\n",
    "\\begin{array}{l}\n",
    "x = [10 \\, : \\, 0.5/5 \\, : \\, 10.5] ;\\\\\n",
    "y = [11.0320, \\, 11.1263, \\, 11.1339, \\, 11.1339, \\, 11.1993, \\, 11.1844] ;\n",
    "\\end{array}\n",
    "$$\n",
    "\n",
    "mediante un polinomio ai minimi quadrati di grado 4 costruito  con il metodo\n",
    "delle equazioni normali, con il metodo QRLS e con il metodo SVDLS.\n",
    "Perturbare poi il secondo punto nel seguente modo\n",
    "$$x(1) = x(1) + 0.013; \\quad y(1) = y(1) - 0.001;$$\n",
    "e calcolare i polinomi ai minimi quadrati relativi alla\n",
    "configurazione perturbata. Commentare e motivare i risultati ottenuti.\n",
    "\n"
   ]
  },
  {
   "cell_type": "code",
   "execution_count": null,
   "id": "37176986-7457-422d-b14b-9fa180cd648e",
   "metadata": {},
   "outputs": [],
   "source": []
  },
  {
   "cell_type": "code",
   "execution_count": null,
   "id": "f8314ab0-9ca1-48b4-8b25-b36db0bd2011",
   "metadata": {},
   "outputs": [],
   "source": []
  }
 ],
 "metadata": {
  "kernelspec": {
   "display_name": "py310",
   "language": "python",
   "name": "python3"
  },
  "language_info": {
   "codemirror_mode": {
    "name": "ipython",
    "version": 3
   },
   "file_extension": ".py",
   "mimetype": "text/x-python",
   "name": "python",
   "nbconvert_exporter": "python",
   "pygments_lexer": "ipython3",
   "version": "3.10.8"
  },
  "vscode": {
   "interpreter": {
    "hash": "30eef1dcfb837675ec28ded3b62cbdc631b763468d0e57f04da975e3db11727d"
   }
  }
 },
 "nbformat": 4,
 "nbformat_minor": 5
}
