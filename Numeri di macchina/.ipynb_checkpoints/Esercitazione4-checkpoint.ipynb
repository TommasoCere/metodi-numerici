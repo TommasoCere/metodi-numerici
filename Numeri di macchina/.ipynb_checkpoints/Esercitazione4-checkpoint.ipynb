{
 "cells": [
  {
   "cell_type": "markdown",
   "id": "b97be3ab-d6dd-495f-a342-e5e837cfb8bc",
   "metadata": {},
   "source": [
    "#                       Esercitazione 4 - 14 Marzo 2023"
   ]
  },
  {
   "cell_type": "markdown",
   "id": "60ab2cbf-4329-4dbe-b761-16ea93bb103a",
   "metadata": {},
   "source": [
    "- **1.** Verificare il sistema dei numeri di macchina gestito da Python: importare il pacchetto sys. La funzione sys.float_info dà le informazioni necessarie. Stamparle e poi verificarne la validità con le formule viste a lezione: numero minimo di macchina, numero massimo di macchina, precisione di macchina \n",
    "\n",
    "\n",
    "  **N.B.** Bisogna tenere presente che c'è l'hidden bit. Quindi la mantissa più piccola da considerare $M=1.m$ dove $m=0$. Quindi il numero minimo ha mantissa $1.0$ e parte esponente $\\beta^L$, quindi e' dato da $1.0 \\beta^L= \\beta^L$.\n",
    "  \n",
    "   Ragionate voi per calcolare il numero massimo di macchina, tenendo conto dell'hidden bit.\n"
   ]
  },
  {
   "cell_type": "code",
   "execution_count": 26,
   "id": "12ed362b-3128-4bf0-9b26-1a6ac68173d0",
   "metadata": {},
   "outputs": [
    {
     "name": "stdout",
     "output_type": "stream",
     "text": [
      "sys.float_info(max=1.7976931348623157e+308, max_exp=1024, max_10_exp=308, min=2.2250738585072014e-308, min_exp=-1021, min_10_exp=-307, dig=15, mant_dig=53, epsilon=2.220446049250313e-16, radix=2, rounds=1)\n"
     ]
    }
   ],
   "source": [
    "import sys\n",
    "print(sys.float_info)"
   ]
  },
  {
   "cell_type": "code",
   "execution_count": 27,
   "id": "270da2ad-f29c-440b-9778-cc3efb691428",
   "metadata": {},
   "outputs": [
    {
     "name": "stdout",
     "output_type": "stream",
     "text": [
      "Valore più piccolo: 2.2250738585072014e-308\n",
      "VAlore più grande: 1.7976931348623157e+308\n"
     ]
    }
   ],
   "source": [
    "L = -1022\n",
    "minimo = 1*2**L\n",
    "H = 1023\n",
    "massimo = (2**H)*(1+(1-2**(-52)))\n",
    "print(\"Valore più piccolo:\", minimo)\n",
    "print(\"VAlore più grande:\", massimo)"
   ]
  },
  {
   "cell_type": "markdown",
   "id": "224ac7e6-31df-4f15-8ffc-9c82bd21c82e",
   "metadata": {},
   "source": [
    "- **2.**  Calcolare lo spacing in  $[2^{52}, 2^{53}]$.\n",
    "    - Sia $x=2^{52}$ individuare il numero successivo a $2^{52}$ ed assegnarlo ad una variabile  y.\n",
    "    - Cosa succede se consideriamo il valore z=x+0.5?\n",
    "    - Cosa succede se consideriamo il valore q=y+0.5?\n",
    "  "
   ]
  },
  {
   "cell_type": "code",
   "execution_count": 33,
   "id": "57dc17d1-1e42-4bd5-86f3-0d5cdf800779",
   "metadata": {},
   "outputs": [
    {
     "name": "stdout",
     "output_type": "stream",
     "text": [
      "Spacing: 1\n",
      "Punto 1: 4503599627370497\n",
      "Punto 2: 4503599627370496.0\n",
      "Punto 3: 4503599627370496.0\n"
     ]
    }
   ],
   "source": [
    "spacing = 2**(52+1-53)\n",
    "print(\"Spacing:\", spacing)\n",
    "x = 2**52\n",
    "y = x+spacing\n",
    "print(\"Punto 1:\", y)\n",
    "z = x+0.5\n",
    "print(\"Punto 2:\", z)\n",
    "q = z+0.5\n",
    "print(\"Punto 3:\", q)"
   ]
  },
  {
   "cell_type": "markdown",
   "id": "c73d1758-eb82-48af-8618-6dfb522dcdd6",
   "metadata": {},
   "source": [
    "- **3** Calcolare la cardinalità dell'insieme dei numeri finiti di Python"
   ]
  },
  {
   "cell_type": "code",
   "execution_count": 40,
   "id": "2ea7a084-75de-4f3e-a3b0-9c75cb42da7f",
   "metadata": {},
   "outputs": [
    {
     "name": "stdout",
     "output_type": "stream",
     "text": [
      "Cardinalità: 18428729675200069633\n"
     ]
    }
   ],
   "source": [
    "F = 2*(2-1)*(2**(53-1))*(H-L+1)+1\n",
    "print(\"Cardinalità:\",F)"
   ]
  },
  {
   "cell_type": "markdown",
   "id": "cee853bd-aca6-47f4-980f-7e44473f7523",
   "metadata": {},
   "source": [
    "- **4**  Verificare numericamente che $\\texttt{eps} = 2^{-52}$, spacing nell'intervallo $[1, 2]$,\n",
    "è il piu' piccolo $x$ tale che $fl(1 + x)$ è  diverso da $1$. Si consiglia di\n",
    "visualizzare i risultati anche per differenza.\n"
   ]
  },
  {
   "cell_type": "code",
   "execution_count": 54,
   "id": "158cd35d-d4ba-4b02-9c06-9a10e584dff2",
   "metadata": {},
   "outputs": [
    {
     "name": "stdout",
     "output_type": "stream",
     "text": [
      "Spacing: 2.220446049250313e-16\n",
      "esp: 2.220446049250313e-16\n",
      "Sono uguali? True\n"
     ]
    }
   ],
   "source": [
    "spaicing = 2**(0+1-53)\n",
    "print(\"Spacing:\", spaicing)\n",
    "esp = 2**-52\n",
    "print(\"esp:\",esp)\n",
    "print(\"Sono uguali?\", esp==spaicing)"
   ]
  },
  {
   "cell_type": "markdown",
   "id": "d19cd104-d1ea-4444-996c-0a9672063450",
   "metadata": {},
   "source": [
    "- **5.** Siano $a=1.234567890123400 e+15$, $b=-1.234567890123401 e+15$, $c=0.06$. \n",
    "  Calcolare $(a+b)+c$, $(a+c)+b$, $a+(b+c)$. Che cosa si osserva? Ripetere l'esercizio con $a=0.23371258 e-4$, $b=0.33678429 e+2$, $c=-0.33677911 e+2$."
   ]
  },
  {
   "cell_type": "code",
   "execution_count": 61,
   "id": "44b04eec-381e-4206-a1f5-91255a119385",
   "metadata": {},
   "outputs": [
    {
     "name": "stdout",
     "output_type": "stream",
     "text": [
      "Risultato 1: -0.94\n",
      "Risultato 2: -1.0\n",
      "Risultato 3: -1.0\n"
     ]
    }
   ],
   "source": [
    "a=1.234567890123400*10**15\n",
    "b=-1.234567890123401*10**15\n",
    "c=0.06\n",
    "ris1=(a+b)+c\n",
    "ris2=(a+c)+b\n",
    "ris3=a+(b+c)\n",
    "print(\"Risultato 1:\", ris1)\n",
    "print(\"Risultato 2:\", ris2)\n",
    "print(\"Risultato 3:\", ris3)\n",
    "# anche negli altri non otteniamo lo stesso risultato"
   ]
  },
  {
   "cell_type": "markdown",
   "id": "960d25c1-9677-4b1e-92c1-c16870d520b6",
   "metadata": {},
   "source": [
    "- **6.** Si considerino le espressioni $y_1=\\sqrt{x^2+1}-x$ e $y_2=\\frac{1}{\\sqrt{x^2+1}+x}$. Calcolare il valore di $y_1$ e $y_2$ per $x=7777$ e $x=77777777$. Che cosa si osserva? Commentare i risultati ottenuti."
   ]
  },
  {
   "cell_type": "code",
   "execution_count": 67,
   "id": "e3b386ca-9416-4964-9b2b-80936b02a5f0",
   "metadata": {},
   "outputs": [
    {
     "name": "stdout",
     "output_type": "stream",
     "text": [
      "Ris1 a: 7777.000064292143\n",
      "Ris2 a: 6.429214323431402e-05\n",
      "Ris1 b: 77777777.0\n",
      "Ris2 b: 6.428571492857143e-09\n"
     ]
    }
   ],
   "source": [
    "ris1 = ((7777**2)+1)**(1/2)\n",
    "ris2 = 1/((((7777**2)+1)**(1/2))+7777)\n",
    "print(\"Ris1 a:\",ris1)\n",
    "print(\"Ris2 a:\",ris2)\n",
    "ris1 = ((77777777**2)+1)**(1/2)\n",
    "ris2 = 1/((((77777777**2)+1)**(1/2))+77777777)\n",
    "print(\"Ris1 b:\",ris1)\n",
    "print(\"Ris2 b:\",ris2)"
   ]
  },
  {
   "cell_type": "markdown",
   "id": "e3d8c3b3-d514-41ec-a6f2-eb22311ab157",
   "metadata": {},
   "source": [
    "- **7.** Valutare in aritmetica floating point l'espressione\n",
    "$$A(x)=\\frac{1}{x}-\\frac{1}{(x+1)}$$  nel vettore   $x=[10^0, 10^1,... ,10^{20}]$ contenente potenze successive  di $10$,  Si calcoli per ogni elemento di x l'errore relativo considerando come valore esatto quello calcolato usando  l'espressione algebricamente equivalente\n",
    "$$\n",
    "B(x)=\\frac{1}{x (x+1)}.\n",
    "$$ Si visualizzi l'errore relativo in un grafico in scala logaritmica su $x$ e $y$"
   ]
  },
  {
   "cell_type": "code",
   "execution_count": null,
   "id": "84351040-afb8-420c-bf53-18ee4ea509a9",
   "metadata": {},
   "outputs": [],
   "source": []
  },
  {
   "cell_type": "markdown",
   "id": "27155dcd-6580-4e3d-aac9-fa42b717bf70",
   "metadata": {},
   "source": [
    "- **8-**  Quali problemi si possono incontrare nel calcolo delle radici di $a x^2+b x+c$? Provare a risolvere l'equazione $x^2+10^k x+1=0$ con k in range(1,9). Che cosa si osserva?"
   ]
  },
  {
   "cell_type": "code",
   "execution_count": null,
   "id": "f4bbf13c-2a51-4f9c-b4c2-fe4fab0170e7",
   "metadata": {},
   "outputs": [],
   "source": []
  },
  {
   "cell_type": "markdown",
   "id": "9f6294cc-b0df-40b8-a1f5-450f4e756ffa",
   "metadata": {},
   "source": [
    "- **9.** Scrivere uno script Matlab che fornisca le approssimazioni di $e=\\exp(1)$ ottenute con la formula\n",
    "$f(n)=(1/n+1)^n$ per $n=10^k$ e  $k=0, ..., 16$. Visualizzare: un grafico con i valori di $f(n)$ al variare di n ed un grafico con i valori dell'errore relativo (considerando come valore esatto il valore math.exp(1)).  Cosa si osserva? Commentare i risultati ottenuti."
   ]
  },
  {
   "cell_type": "code",
   "execution_count": null,
   "id": "9d72d963-fa73-4a83-be6d-c6058a4783c5",
   "metadata": {},
   "outputs": [],
   "source": []
  }
 ],
 "metadata": {
  "kernelspec": {
   "display_name": "Python 3 (ipykernel)",
   "language": "python",
   "name": "python3"
  },
  "language_info": {
   "codemirror_mode": {
    "name": "ipython",
    "version": 3
   },
   "file_extension": ".py",
   "mimetype": "text/x-python",
   "name": "python",
   "nbconvert_exporter": "python",
   "pygments_lexer": "ipython3",
   "version": "3.8.15"
  }
 },
 "nbformat": 4,
 "nbformat_minor": 5
}
