{
 "cells": [
  {
   "cell_type": "markdown",
   "id": "d2903ef7-4c36-4b4f-b8dd-01fa2f35dfc5",
   "metadata": {},
   "source": [
    "## Esercitazione 6  del    27 Marzo 2023 \n"
   ]
  },
  {
   "cell_type": "markdown",
   "id": "8c418e44-c9dc-46d9-a3df-199e47ed1a93",
   "metadata": {},
   "source": [
    "## Esercizio 1 \n",
    "Si consideri l'equazione quadratica $x^2 + 2px - q = 0 $ con $p=10^5$ e $q=10^{-i}$, i=1,..,10.\n",
    "Si stabilisca se il problema relativo al calcolo della soluzione $x= -p+\\sqrt{p^2+q}$ risulta essere ben\n",
    "condizionato per tutti i valori di q assegnati;"
   ]
  },
  {
   "cell_type": "code",
   "execution_count": 1,
   "id": "1fea1cae",
   "metadata": {},
   "outputs": [
    {
     "name": "stdout",
     "output_type": "stream",
     "text": [
      "Array:  [1.e-01 1.e-02 1.e-03 1.e-04 1.e-05 1.e-06 1.e-07 1.e-08 1.e-09 1.e-10]\n",
      "sqrt(q + 10000000000) - 100000 1/(2*sqrt(q + 10000000000))\n",
      "Array k:  [0.99999239 0.99999239 1.00174164 1.01058054 1.14532461 0.34359738\n",
      "        inf        inf        inf        inf]\n"
     ]
    },
    {
     "name": "stderr",
     "output_type": "stream",
     "text": [
      "C:\\Users\\tommaso.ceredi\\AppData\\Local\\Temp\\ipykernel_13724\\2192494800.py:23: RuntimeWarning: divide by zero encountered in divide\n",
      "  k = np.abs(df_numerica(array)*array/f_numerica(array))\n"
     ]
    }
   ],
   "source": [
    "import numpy as np\n",
    "import sympy as sym\n",
    "from sympy.utilities.lambdify import lambdify as lambdif\n",
    "\n",
    "q = sym.symbols(\"q\")\n",
    "p = sym.symbols(\"p\")\n",
    "\n",
    "# array da 10**-1 a 10**-10\n",
    "array = np.logspace(-1,-10,10)\n",
    "print(\"Array: \",array)\n",
    "\n",
    "f = (-p)+sym.sqrt(p**2+q)\n",
    "df = sym.diff(f,q,1)\n",
    "# print(\"Derivata prima di f: \",format(df))\n",
    "\n",
    "fp=f.subs(p,10**5)\n",
    "dfp=df.subs(p,10**5)\n",
    "print(fp,dfp)\n",
    "\n",
    "f_numerica = lambdif(q,fp, np)\n",
    "df_numerica = lambdif(q,dfp, np)\n",
    "\n",
    "k = np.abs(df_numerica(array)*array/f_numerica(array))\n",
    "print(\"Array k: \",k)"
   ]
  },
  {
   "cell_type": "markdown",
   "id": "1090e57b-2759-433c-9a3b-8cde7950f693",
   "metadata": {},
   "source": [
    "## Esercizio 2\n",
    "Scrivere una funzione numpy che calcola la norma infinito e la norma 1 di un vettore ed una matrice  e testarla su vettori e matrici  a propria scelta. Confrontarne i risultati con quelli ottenuti utilizzando la funzione norm di numpy.linalg\n",
    "\n",
    "(Ricorda la formula della norma infinito e della norma 1 di una matrice\n",
    "$||A||_\\infty= \\max_{j=1,n} \\sum_{i} |a_{ij}| $\n",
    "$\\quad ||A||_1= \\max_{i=1,n} \\sum_{j} |a_{ij}| $)"
   ]
  },
  {
   "cell_type": "code",
   "execution_count": 2,
   "id": "47338b47",
   "metadata": {},
   "outputs": [
    {
     "name": "stdout",
     "output_type": "stream",
     "text": [
      "norma1 mia: 28, norma1 numpy: 28\n",
      "normainf mia: 34, normainf numpy: 34\n"
     ]
    }
   ],
   "source": [
    "import numpy as np\n",
    "\n",
    "def mynorm1(x):\n",
    "    c = np.sum(np.abs(x), axis=0)\n",
    "    n1 = np.max(c)\n",
    "    return n1\n",
    "\n",
    "def mynorm_inf(x):\n",
    "    c = np.sum(np.abs(x), axis=1)\n",
    "    n_inf = np.max(c)\n",
    "    return n_inf\n",
    "\n",
    "A = np.array([[1,2,3],[4,-5,6],[7,8,-19]])\n",
    "norma1 = mynorm1(A)\n",
    "norma1_py = np.linalg.norm(A, ord=1)\n",
    "normainf = mynorm_inf(A)\n",
    "normainf_py = np.linalg.norm(A, ord=np.inf)\n",
    "print(\"norma1 mia: %d, norma1 numpy: %d\" % (norma1, norma1_py))\n",
    "print(\"normainf mia: %d, normainf numpy: %d\" % (normainf, normainf_py))"
   ]
  },
  {
   "cell_type": "markdown",
   "id": "b6f0000b-3345-45d7-a610-5d9a09b7c115",
   "metadata": {},
   "source": [
    "## Esercizio 3\n",
    "Implementare una funzione che calcola la norma 2 di una  matrice facendo uso della funzione eigvals del pacchetto numpy.linalg, (np.linalg.eigvals(A)). Testarla sulla matrice A=np.array([[4,-1,6],[2,3,-3],[1,-2,9/2]])   e confrontarne i risultati con quelli ottenuti utilizzando la funzione norm di numpy.linalg"
   ]
  },
  {
   "cell_type": "code",
   "execution_count": 3,
   "id": "8cfafab8",
   "metadata": {},
   "outputs": [
    {
     "name": "stdout",
     "output_type": "stream",
     "text": [
      "norma2 mia:  9.056251013341882 norma2 numpy:  9.056251013341878\n"
     ]
    }
   ],
   "source": [
    "import numpy as np\n",
    "\n",
    "def mynorm2(A):\n",
    "    c = np.sqrt(np.max(np.abs(np.linalg.eigvals(np.dot(A.T,A)))))\n",
    "    return c\n",
    "\n",
    "A=np.array([[4,-1,6],[2,3,-3],[1,-2,9/2]])\n",
    "\n",
    "norma2 = mynorm2(A)\n",
    "norma2_py = np.linalg.norm(A, ord=2)\n",
    "print(\"norma2 mia: \",norma2, \"norma2 numpy: \",norma2_py)"
   ]
  },
  {
   "cell_type": "markdown",
   "id": "2b3aefbb-af07-4543-91a9-e6b766760a6a",
   "metadata": {},
   "source": [
    "## Esercizio 4 \n",
    "Implementare il calcolo dell'indice di condizionamento in norma 2 di una matrice A come rapporto tra la radice dell'autovalore massimo di $A^TA$ e la radice dell'autovalore minimo di $A^TA$."
   ]
  },
  {
   "cell_type": "markdown",
   "id": "2b2f0afd-9374-4f8e-8a7b-eb783ba28fd4",
   "metadata": {},
   "source": [
    "## Esercizio 5\n",
    "- Costruire la matrice di Vandermonde A, generata dal vettore x=[1.0,2.0,...,6.0] utilizzando la funzione np.vander(x, increasing=True) di numpy. \n",
    "- Calcolarne l'indice di condizionamento in norma 1 senza utilizzare la funzione cond di numpy.linalg e poi confrontarne il valore con quello ottenuto utilizzando la funzione.\n",
    "- Considerare il sistema lineare Ax=b  con matrice dei coefficienti A e termine noto costruito in maniera tale che la soluzione esatta sia il vettore x=[1,1,1,1,1,1] (ogni sua componente è 1)\n",
    "- perturbare il vettore dei termini noti della quantità\n",
    "$$\n",
    "\\delta b = 0.025 \\, \\ast \\,\n",
    "\\left [\n",
    "\\begin{array}{c}\n",
    "1\\\\\n",
    "0\\\\\n",
    "0\\\\\n",
    "0\n",
    "\\end{array}\n",
    "\\right ]\n",
    "$$\n",
    "- Risolvere il sistema con termine noto pertubato $b + \\delta b$ ((usando il metodo solve del modulo linalg di Scipy).\n",
    "- Calcolare l'errore relativo sul termine noto e l'errore relativo sulla soluzione. Cosa si può concludere?\n",
    "\n",
    "N.B. per il calcolo dell'inversa della matrice di A usare la funzione di numpy.linalg.inv(A).\n"
   ]
  },
  {
   "cell_type": "code",
   "execution_count": 4,
   "id": "b4be939c",
   "metadata": {},
   "outputs": [
    {
     "name": "stdout",
     "output_type": "stream",
     "text": [
      "[[1.000e+00 1.000e+00 1.000e+00 1.000e+00 1.000e+00 1.000e+00]\n",
      " [1.000e+00 2.000e+00 4.000e+00 8.000e+00 1.600e+01 3.200e+01]\n",
      " [1.000e+00 3.000e+00 9.000e+00 2.700e+01 8.100e+01 2.430e+02]\n",
      " [1.000e+00 4.000e+00 1.600e+01 6.400e+01 2.560e+02 1.024e+03]\n",
      " [1.000e+00 5.000e+00 2.500e+01 1.250e+02 6.250e+02 3.125e+03]\n",
      " [1.000e+00 6.000e+00 3.600e+01 2.160e+02 1.296e+03 7.776e+03]]\n",
      "Condizionamento:  1281104.9999999746 1281104.9999999746\n"
     ]
    }
   ],
   "source": [
    "import numpy as np\n",
    "\n",
    "x = np.arange(1.0,7.0)\n",
    "A = np.vander(x,increasing=True)\n",
    "print(A)\n",
    "mycond = mynorm1(A)*mynorm1(np.linalg.inv(A))\n",
    "cond = np.linalg.cond(A, p=1)\n",
    "print(\"Condizionamento: \",mycond, cond)"
   ]
  },
  {
   "cell_type": "markdown",
   "id": "1fad1579-04c4-4aae-a840-2ab3120aaf2e",
   "metadata": {},
   "source": [
    "## Esercizio 6\n",
    "Assegnato il sistema lineare $Ax = b$, con\n",
    "$$\n",
    "A =\n",
    "\\left [\n",
    "\\begin{array}{ccc}\n",
    "6 & 63 & 662.2\\\\\n",
    "63 & 662.2 & 6967.8\\\\\n",
    "662.2 & 6967.8 & 73393.5664\n",
    "\\end{array}\n",
    "\\right ], \\qquad\n",
    "b =\n",
    "\\left [\n",
    "\\begin{array}{c}\n",
    "1.1\\\\\n",
    "2.33\\\\\n",
    "1.7\n",
    "\\end{array}\n",
    "\\right ]\n",
    "$$\n",
    "- trovare il vettore soluzione $x$ (usando il metodo solve del modulo linalg di Scipy);\n",
    "- perturbare la matrice dei coefficienti della quantità\n",
    "$$\n",
    "\\delta A =\n",
    "0.01 \\, \\ast \\,\n",
    "\\left [ \\begin{array}{ccc}\n",
    "1 & 0 & 0\\\\\n",
    "0 & 0 & 0\\\\\n",
    "0 & 0 & 0\n",
    "\\end{array}\n",
    "\\right ]\n",
    "$$\n",
    "quindi calcolare l'errore relativo sulla soluzione e confrontarlo con la\n",
    "perturbazione relativa sui dati di ingresso. Cosa si osserva?"
   ]
  },
  {
   "cell_type": "markdown",
   "id": "3fd35cbb-3eaa-4674-91ff-cf7148cac8b8",
   "metadata": {},
   "source": [
    "## Esercizio 7\n",
    " \n",
    "Assegnato il sistema lineare $Ax = b$, con $A$ matrice di Hilbert di ordine\n",
    "$4$ e $b = [1, 1, 1, 1]^T$,\n",
    " - trovare il vettore soluzione $x$ (usando il metodo solve del modulo linalg di Scipy);\n",
    " -  perturbare il vettore dei termini noti della quantità\n",
    "$$\n",
    "\\delta b = 0.01 \\, \\ast \\,\n",
    "\\left [\n",
    "\\begin{array}{c}\n",
    "1\\\\\n",
    "-1\\\\\n",
    "1\\\\\n",
    "-1\n",
    "\\end{array}\n",
    "\\right ]\n",
    "$$\n",
    "quindi calcolare la soluzione del sistema $A x_p= b_p$ con termine noto $b_p=b+ \\delta b$.\n",
    "Calcolare l'errore relativo sulla soluzione e confrontarlo con la perturbazione relativa sui dati di ingresso. Cosa si osserva?\n",
    "\n",
    "Nota: per la costruzione della matrice di Hilbert usare la funzione hilbert(n) del modulo scipy.linalg\n",
    "(scipy.linalg.hilbert(n))  dove bisogna specificare l'ordine n della matrice."
   ]
  },
  {
   "cell_type": "markdown",
   "id": "b7609125-16d1-4652-8945-8128d7ba1ca4",
   "metadata": {},
   "source": [
    "## Esercizio 8\n",
    "Si consideri lo sviluppo in serie dell'esponenziale $e^x=1+x+\\frac{1}{2!}x^2+\\frac{1}{3!}x^3+\\cdots =\\sum_{k=0}^\\infty \\frac{x^k}{k!} $. Si calcoli un'approssimazione dell'esponenziale troncando ad N=100 termini la serie, per valori di x che variano da -10 a 10 incluso. Si calcoli  per ogni valore di x l'errore relativo del valore approssimato rispetto al valore esatto, ottenuto mediante la funzione exp della libreria numpy. Cosa si osserva? Pensare ad un algoritmo più stabile ricordando che $e^{-x}=\\frac{1}{e^{|x|}}$. "
   ]
  },
  {
   "cell_type": "markdown",
   "id": "0205da67-2ed7-4f56-beb7-33b5e38b8216",
   "metadata": {},
   "source": [
    "## Esercizio 9\n",
    "Calcolare l'approssimazione della derivata prima di f(x) = sin(x) in x = 1\n",
    "mediante l'algoritmo del rapporto incrementale (f(x + h) - f(x))/h per valori decrescenti\n",
    "di h, confrontandolo con il valore fornito dalla funzione di libreria per f'(x)\n",
    "mediante calcolo dell'errore relativo."
   ]
  },
  {
   "cell_type": "code",
   "execution_count": null,
   "id": "9ea35604-f9a5-4241-9347-a0994b5a9066",
   "metadata": {},
   "outputs": [],
   "source": []
  }
 ],
 "metadata": {
  "kernelspec": {
   "display_name": "py310",
   "language": "python",
   "name": "python3"
  },
  "language_info": {
   "codemirror_mode": {
    "name": "ipython",
    "version": 3
   },
   "file_extension": ".py",
   "mimetype": "text/x-python",
   "name": "python",
   "nbconvert_exporter": "python",
   "pygments_lexer": "ipython3",
   "version": "3.10.8"
  },
  "vscode": {
   "interpreter": {
    "hash": "30eef1dcfb837675ec28ded3b62cbdc631b763468d0e57f04da975e3db11727d"
   }
  }
 },
 "nbformat": 4,
 "nbformat_minor": 5
}
