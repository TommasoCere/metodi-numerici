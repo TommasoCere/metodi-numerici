{
 "cells": [
  {
   "cell_type": "markdown",
   "id": "e90ec8ce-90d7-46dd-902e-4dfc77ed67cc",
   "metadata": {},
   "source": [
    "#                                                               Esercitazione 7-8\n",
    "## 4 e 18 Aprile 2023"
   ]
  },
  {
   "cell_type": "markdown",
   "id": "d54ac306-b55c-4349-9388-ef917d661f36",
   "metadata": {},
   "source": [
    "## Nota 1.\n",
    "La funzione *scipy.linalg.lu(A)*  , presa in input una matrice A a rango massimo, restituisce in output le matrici $P^T$,L,U,  della fattorizzazione di LU della matrice A in maniera tale che PA=LU (restituisce la matrice di permutazione trasposta)"
   ]
  },
  {
   "cell_type": "code",
   "execution_count": 1,
   "id": "771fdc8c-684c-454d-a034-d26b3c3d8fcd",
   "metadata": {
    "tags": []
   },
   "outputs": [
    {
     "name": "stdout",
     "output_type": "stream",
     "text": [
      "A= [[2 1]\n",
      " [3 4]]\n",
      "L= [[1.         0.        ]\n",
      " [0.66666667 1.        ]]\n",
      "U= [[ 3.          4.        ]\n",
      " [ 0.         -1.66666667]]\n",
      "P= [[0. 1.]\n",
      " [1. 0.]]\n",
      "Matrice P*A \n",
      " [[3. 4.]\n",
      " [2. 1.]]\n",
      "Matrice ottenuta moltipicando Le ed U \n",
      " [[3. 4.]\n",
      " [2. 1.]]\n"
     ]
    }
   ],
   "source": [
    "import numpy as np\n",
    "import scipy as sp\n",
    "from scipy.linalg import lu\n",
    "A=np.array([[2,1],[3,4]])\n",
    "PT,L,U=lu(A)  #Restituisce in output la trasposta della matrice di Permutazione\n",
    "P=PT.T.copy()   #P è la matrice di permutazione\n",
    "print(\"A=\",A)\n",
    "print(\"L=\",L)\n",
    "print(\"U=\",U)\n",
    "print(\"P=\",P)\n",
    "#LU è la fattorizzazione di P*A (terorema 2)\n",
    "A1=P@A # equivale al prodotto matrice x matrice np.dot(P,A)\n",
    "A1Fatt=L@U # equivale a np.dot(L,U)\n",
    "print(\"Matrice P*A \\n\", A1)\n",
    "print(\"Matrice ottenuta moltipicando Le ed U \\n\",A1Fatt)\n"
   ]
  },
  {
   "cell_type": "markdown",
   "id": "c8f02e37-3f92-40bd-ad19-2e1820bef98a",
   "metadata": {},
   "source": [
    "## Nota 2\n",
    "La funzione *scipy.linalg.cholesky(a, lower=True)*, presa in input una matrice simmetrica e definta positiva restituisce in output la matrice L triangolare inferiore tale che $A=L \\cdot L^T$. Se la matrice simmetrica in input non è  definita positiva, restituisce un errore."
   ]
  },
  {
   "cell_type": "code",
   "execution_count": 2,
   "id": "b5c2c35c-a5bf-46bb-a074-b1223eb4228d",
   "metadata": {
    "tags": []
   },
   "outputs": [
    {
     "name": "stdout",
     "output_type": "stream",
     "text": [
      "[[ 2  1  3]\n",
      " [ 1  5  7]\n",
      " [ 3  7 12]]\n"
     ]
    }
   ],
   "source": [
    "from scipy.linalg import cholesky\n",
    "A=np.array([[2,1,3],[1,5,7],[3,7,12]])\n",
    "print(A)"
   ]
  },
  {
   "cell_type": "code",
   "execution_count": 3,
   "id": "573c6451-6704-4ec7-882a-5c92b9228728",
   "metadata": {
    "tags": []
   },
   "outputs": [
    {
     "name": "stdout",
     "output_type": "stream",
     "text": [
      "[[1.41421356 0.         0.        ]\n",
      " [0.70710678 2.12132034 0.        ]\n",
      " [2.12132034 2.59272486 0.8819171 ]]\n",
      "A1=\n",
      " [[ 2.  1.  3.]\n",
      " [ 1.  5.  7.]\n",
      " [ 3.  7. 12.]]\n"
     ]
    }
   ],
   "source": [
    "L=cholesky(A,lower=True)\n",
    "print(L)\n",
    "A1=L@L.T\n",
    "print(\"A1=\\n\",A1)"
   ]
  },
  {
   "cell_type": "markdown",
   "id": "61a0ba64-b364-4a43-a1b7-a57ee779ef31",
   "metadata": {},
   "source": [
    "## Nota 3\n",
    "La funzione *scipy.linalg.qr(a)*, presa in input una matrice A (nxn)  a rango massimo, restituisce in output le matrici Q (ortogonale di dimensione nxn) ed una matrice R (nxn) triangolare superiore tale che $A=Q \\cdot R$"
   ]
  },
  {
   "cell_type": "code",
   "execution_count": 4,
   "id": "8d9f5290-f22c-4e10-8694-4e940a751d23",
   "metadata": {
    "tags": []
   },
   "outputs": [
    {
     "name": "stdout",
     "output_type": "stream",
     "text": [
      "Q= \n",
      " [[-0.53452248  0.6882472  -0.49051147]\n",
      " [-0.26726124 -0.6882472  -0.67445327]\n",
      " [-0.80178373 -0.22941573  0.55182541]]\n",
      "R= \n",
      " [[ -3.74165739  -7.48331477 -13.09580085]\n",
      " [  0.          -4.35889894  -5.50597761]\n",
      " [  0.           0.           0.42919754]]\n",
      "[[ 2.  1.  3.]\n",
      " [ 1.  5.  7.]\n",
      " [ 3.  7. 12.]]\n"
     ]
    }
   ],
   "source": [
    "from scipy.linalg import qr\n",
    "A=np.array([[2,1,3],[1,5,7],[3,7,12]])\n",
    "Q,R=qr(A)\n",
    "print(\"Q= \\n\",Q)\n",
    "print(\"R= \\n\",R)\n",
    "A1=Q@R\n",
    "print(A1)"
   ]
  },
  {
   "cell_type": "markdown",
   "id": "44a1e060-18d2-48d8-b968-e73a58e56fcd",
   "metadata": {},
   "source": [
    "## Esercizio 1. \n",
    "Facendo uso dei numpy array, implementare una funzione Lsolve(L,b), che, presa  in input una matrice L, triangolare inferiore,  e il vettore termine noto b, risolva il sistema lineare Lx=b, con il metodo della sostituzione in avanti e restituisca in output: la soluzione del sistema lineare ed un flag: flag=  0, se sono soddisfatti i criteri di applicabilità flag= 1, se non sono soddisfatti. (NB. Come test di applicabilità controllare che la matrice L sia quadrata e che non si annulli nessun elemento della diagonale)."
   ]
  },
  {
   "cell_type": "code",
   "execution_count": null,
   "id": "1b3e67d9-0a1c-4669-ae52-1b434ab90732",
   "metadata": {},
   "outputs": [],
   "source": [
    "def Lsolve(L,b):\n",
    "    \"\"\"  \n",
    "    Risoluzione con procedura forward di Lx=b con L triangolare inferiore  \n",
    "     Input: L matrice triangolare inferiore\n",
    "            b termine noto\n",
    "    Output: x: soluzione del sistema lineare\n",
    "            flag=  0, se sono soddisfatti i test di applicabilità\n",
    "                   1, se non sono soddisfatti\n",
    "    \"\"\"\n",
    "#test dimensione\n",
    "    m,n=L.shape\n",
    "    flag=0\n",
    "    if n != m:\n",
    "        print('errore: matrice non quadrata')\n",
    "        flag=1\n",
    "        x=[]\n",
    "        return x, flag\n",
    "    \n",
    "     # Test singolarita'\n",
    "    if np.all(np.diag(L)) != True:\n",
    "         print('el. diag. nullo - matrice triangolare inferiore')\n",
    "         x=[]\n",
    "         flag=1\n",
    "         return x, flag\n",
    "    # Preallocazione vettore soluzione\n",
    "    x=np.zeros((n,1))\n",
    "    \n",
    "    for i in range(n):\n",
    "         s=np.dot(L[i,:i],x[:i]) #scalare=vettore riga * vettore colonna\n",
    "         x[i]=(b[i]-s)/L[i,i]\n",
    "      \n",
    "     \n",
    "    return x,flag\n",
    "\n",
    "\n"
   ]
  },
  {
   "cell_type": "markdown",
   "id": "c56febff-750a-49bc-9d68-13b0aee0a9fd",
   "metadata": {},
   "source": [
    "## Esercizio 2. \n",
    "Facendo uso dei numpy array, implementare una funzione Usolve(L,b), che, presa  in input una matrice U, triangolare superiore,  e il vettore termine noto b, risolva il sistema lineare Ux=b, con il metodo della sostituzione all'indietro e restituisca in output: la soluzione del sistema lineare ed un flag: flag=  0, se sono soddisfatti i criteri di applicabilità flag= 1, se non sono soddisfatti. (NB. Come criteri di applicabilità controllare che la matrice L sia quadrata e che non si annulli nessun elemento della diagonale)."
   ]
  },
  {
   "cell_type": "code",
   "execution_count": null,
   "id": "81c878c9",
   "metadata": {},
   "outputs": [],
   "source": [
    "def Usolve(U,b):\n",
    "    \n",
    "    \"\"\"\n",
    "    Risoluzione con procedura backward di Rx=b con R triangolare superiore  \n",
    "     Input: U matrice triangolare superiore\n",
    "            b termine noto\n",
    "    Output: x: soluzione del sistema lineare\n",
    "            flag=  0, se sono soddisfatti i test di applicabilità\n",
    "                   1, se non sono soddisfatti\n",
    "    \n",
    "    \"\"\" \n",
    "#test dimensione\n",
    "    m,n=U.shape\n",
    "    flag=0\n",
    "    if n != m:\n",
    "        print('errore: matrice non quadrata')\n",
    "        flag=1\n",
    "        x=[]\n",
    "        return x, flag\n",
    "    \n",
    "     # Test singolarita'\n",
    "    if np.all(np.diag(U)) != True:\n",
    "         print('el. diag. nullo - matrice triangolare superiore')\n",
    "         x=[]\n",
    "         flag=1\n",
    "         return x, flag\n",
    "    # Preallocazione vettore soluzione\n",
    "    x=np.zeros((n,1))\n",
    "    \n",
    "    for i in range(n-1,-1,-1):\n",
    "         s=np.dot(U[i,i+1:n],x[i+1:n]) #scalare=vettore riga * vettore colonna\n",
    "         x[i]=(b[i]-s)/U[i,i]\n",
    "      \n",
    "     \n",
    "    return x,flag\n",
    "\n"
   ]
  },
  {
   "cell_type": "markdown",
   "id": "f5f10793-9998-4cd8-bce4-4251de1b55d6",
   "metadata": {},
   "source": [
    "## Esercizio 3\n",
    "- si implementi una function LUsolve(P,A,L,U,b) che risolve il sistema lineare Ax=b nel caso di fattorizzazione $PA = LU$ assegnata,\n",
    "combinando i metodi di risoluzione in avanti ed all'indietro  precedentemente implementati.\n",
    "- si testi sulla matrice A = np.array([[2, 5, 8, 7], [5, 2, 2, 8], [7, 5, 6, 6], [5, 4, 4, 8]]) con termine noto b scelto in maniera tale che la soluzione esatta del sistema lineare sia il vettore formato da tutti 1."
   ]
  },
  {
   "cell_type": "code",
   "execution_count": null,
   "id": "0e6b879f",
   "metadata": {},
   "outputs": [],
   "source": [
    "def LUsolve(P,A,L,U,b):\n",
    "    pb=np.dot(P,b)\n",
    "    y,flag=Lsolve(L,pb)\n",
    "    if flag == 0:\n",
    "         x,flag=Usolve(U,y)\n",
    "    else:\n",
    "        return [],flag\n",
    "\n",
    "    return x,flag\n",
    "        "
   ]
  },
  {
   "cell_type": "code",
   "execution_count": null,
   "id": "87f1b6ee",
   "metadata": {},
   "outputs": [],
   "source": [
    "import numpy as np\n",
    "\n",
    "from scipy.linalg import lu\n",
    "\n",
    "A = np.array([[2, 5, 8, 7], [5, 2, 2, 8], [7, 5, 6, 6], [5, 4, 4, 8]])\n",
    "print(\"A=\",A)\n",
    "b=np.sum(A,axis=1).reshape(4,1)\n",
    "print(\"b=\",b)\n",
    "PT, L, U = lu(A)\n",
    "P=PT.T.copy()\n",
    "print(\"P= \\n\",P)\n",
    "print(\"L=\\n\",L)\n",
    "print(\"U=\\n\",U)\n",
    "#Le permutazioni di righe fatte sulla matrice vengono effettuate anche sul termine noto\n",
    "x,flag=LUsolve(P,A,L,U,b)\n",
    "print(\"flag= \\n\", flag, \"\\n x= \\n\",x)"
   ]
  },
  {
   "cell_type": "markdown",
   "id": "cd4ed451-8ec8-49df-8558-9811d2a154f2",
   "metadata": {},
   "source": [
    "## Esercizio 4\n",
    "Si implementi una function *solve_nsis(A,B)* per il calcolo della soluzione di un generale sistema lineare $AX = B$, con $X, B$ matrici, che usi la fattorizzazione LU della matrice PA, per risolvere n sistemi lineari: aventi la stessa matrice dei coefficienti A e termine noto l'i-esima colonna della matrice B. \n",
    "Utilizzarla poi per il calcolo dell'inversa delle\n",
    "matrici non singolari\n",
    "$$\n",
    "A=\\left[\n",
    "\\begin{array}{ccc}\n",
    "3 & 5 & 7\\\\\n",
    "2 & 3 & 4\\\\\n",
    "5 & 9 & 11\n",
    "\\end{array}\n",
    "\\right ], \\qquad\n",
    "A=\\left[\n",
    "\\begin{array}{cccc}\n",
    "1 & 2 & 3 & 4\\\\\n",
    "2 & -4 & 6 & 8\\\\\n",
    "-1 & -2 & -3 & -1\\\\\n",
    "5 & 7 & 0 & 1\n",
    "\\end{array}\n",
    "\\right ],\n",
    "$$\n",
    "confrontando i risultati ottenuti con l'output\n",
    "della funzione  *scipy.linalg.inv(A)*"
   ]
  },
  {
   "cell_type": "code",
   "execution_count": null,
   "id": "c6635892",
   "metadata": {},
   "outputs": [],
   "source": [
    "def solve_nsis(A,B):\n",
    "  # Test dimensione  \n",
    "    m,n=A.shape\n",
    "    flag=0;\n",
    "    if n!=m:\n",
    "      print(\"Matrice non quadrata\")\n",
    "       \n",
    "      return\n",
    "    \n",
    "     \n",
    "    X= np.zeros((n,n))\n",
    "    PT,L,U= lu(A)\n",
    "    P=PT.T.copy()\n",
    "    if flag==0:\n",
    "        for i in range(n):\n",
    "            y,flag=Lsolve(L,np.dot(P,B[:,i]))\n",
    "             \n",
    "            \n",
    "            x,flag= Usolve(U,y)\n",
    "            X[:,i]=x.reshape(n,)\n",
    "    else:\n",
    "        print(\"Elemento diagonale nullo\")\n",
    "        X=[]\n",
    "    return X   \n",
    "\n",
    "A=np.array([[3,5,7],[2,3,4],[5,9,11]])\n",
    "m,n=A.shape\n",
    "B=np.eye(m) #Si da come matrice B l'identità: così si ottiene per X l'inversa\n",
    "X=solve_nsis(A,B) \n",
    "print(\"minversa \\n\",X)\n",
    "print(\"Inversa con linalg \\n \",np.linalg.inv(A))\n",
    "\n",
    "A=np.array([[1, 2, 3, 4], [2, -4, 6, 8],[-1, -2, -3, -1],[ 5, 7, 0 ,1]])\n",
    "m,n=A.shape\n",
    "B=np.eye(m)\n",
    "X=solve_nsis(A,B) \n",
    "print(\"minversa \\n\",X)\n",
    "print(\"Inversa con linalg \\n \",np.linalg.inv(A))   \n",
    "    "
   ]
  },
  {
   "cell_type": "markdown",
   "id": "336b8ed9-0a19-44f9-8fd2-890b6f70acfa",
   "metadata": {},
   "source": [
    "## Esercizio 5\n",
    "Sfruttando la fattorizzazione PA=LU  di una delle matrici del punto precedente, calcolarne il determinante.\n"
   ]
  },
  {
   "cell_type": "code",
   "execution_count": null,
   "id": "75159e82",
   "metadata": {},
   "outputs": [],
   "source": [
    "PT,L,U=lu(A)\n",
    "deterA=np.prod(np.diag(U))*np.linalg.det(PT)\n",
    "print(\"Determinante sfruttando la fattorizzazione LU \", deterA,'Determinante usando la funzione np.linalg.det(A)',np.linalg.det(A))"
   ]
  },
  {
   "cell_type": "markdown",
   "id": "e5216f85-37df-422d-964d-1ee359b9fa1f",
   "metadata": {},
   "source": [
    "## Esercizio 6\n",
    "Per valori di $n = 4 : 6 : 40$, si consideri il sistema lineare $A_n x = b$ con\n",
    "$A_n$ matrice di Hankel di ordine $n$ di elementi\n",
    "$$\n",
    "a^{(n)}_{i,n+k-i}\n",
    "=\n",
    "\\left \\{\n",
    "\\begin{array}{ll}\n",
    "2^k & \\hbox{se} \\ k > 0,\\\\\n",
    "2^{1/(2-k)} & \\hbox{se} \\ k \\leq 0,\n",
    "\\end{array}\n",
    "\\right .\n",
    "\\qquad\n",
    "i = 1, ..., n, \\ \\  k = i + 1-n, ..., i,\n",
    "$$\n",
    "e $b$ scelto in modo che risulti $x = [1, 1, ..., 1]^T$. Si risolva tale sistema\n",
    "con il metodo di fattorizzazione LU della matrice PA\n",
    "e il metodo di fattorizzazione QR (Q,R  =scipy.linalg.qr(A)).\n",
    "Calcolare gli errori relativi $\\| \\delta x \\|_2/\\|x\\|_2$ da cui sono affette\n",
    "le soluzioni calcolate con i due metodi e produrre, al variare di $n$, un\n",
    "grafico in scala logaritmica ( matplotlib.plyplot.loglog) degli errori relativi calcolati. Che cosa si\n",
    "osserva?"
   ]
  },
  {
   "cell_type": "code",
   "execution_count": null,
   "id": "40ea0610",
   "metadata": {},
   "outputs": [],
   "source": [
    "def Hankel(n):\n",
    "    A=np.zeros((n,n),dtype=float)\n",
    "    for i in range(0,n):\n",
    "        for k in range(i+1-n,i+1):\n",
    "            if k>0:\n",
    "                A[i,n-1+k-i]=2.0**(k+1)\n",
    "            else:\n",
    "                A[i,n-1+k-i]=2.0**(1/(2-k-1))\n",
    "    return A\n",
    "\n",
    "import matplotlib.pyplot as plt\n",
    "indCond=[]\n",
    "err_rel=[]\n",
    "err_rel_qr=[]\n",
    "for n in range(4,41,6):\n",
    "\n",
    "   A=Hankel(n)\n",
    "   indCond.append(np.linalg.cond(A,2))\n",
    "   xesatta=np.ones((n,1))\n",
    "   b=np.dot(A,xesatta)\n",
    "   PT,L,U=lu(A)\n",
    "   P=PT.T\n",
    "   x,flag=LUsolve(P,A,L,U,b)\n",
    "    \n",
    "   err_rel.append(np.linalg.norm(x-xesatta,2)/np.linalg.norm(xesatta,2))\n",
    "    \n",
    "   \n",
    "   Q,R=sp.linalg.qr(A)\n",
    "   \n",
    "   y=np.dot(Q.T,b)\n",
    "   xqr,flag=Usolve(R,y)\n",
    "   err_rel_qr.append(np.linalg.norm(xqr-xesatta,2)/np.linalg.norm(xesatta,2))\n",
    "   \n",
    "   \n",
    "plt.semilogy(range(4,41,6),err_rel,'ro-',range(4,41,6),err_rel_qr,'go-')\n",
    "plt.legend(['Gauss','QR'])\n",
    "plt.ylabel('Errore relativo sulla soluzione')\n",
    "plt.show()\n",
    "plt.semilogy(range(4,41,6),indCond,'ro-')\n",
    "\n"
   ]
  },
  {
   "cell_type": "markdown",
   "id": "0ba403c0-aff7-4239-a665-c5c12f99904d",
   "metadata": {},
   "source": [
    "Ripetere l'esercizio precedente per risolvere il sistema lineare $Ax = b$\n",
    "con $A$ e $b$ cos\\`i  definiti:\n",
    "$$\n",
    "a^{(n)}_{i,j}=\n",
    "\\left \\{\n",
    "\\begin{array}{ll}\n",
    "1 & \\hbox{se} \\ i=j \\ \\hbox{o \\, se} \\ j=n,\\\\\n",
    "-1 & \\hbox{se} \\ i>j,\\\\\n",
    "0 & \\hbox{altrimenti}\n",
    "\\end{array}\n",
    "\\right .\n",
    "\\qquad\n",
    "b = A \\cdot [1, ..., 1]^T,\n",
    "$$\n",
    "per $n = 48 : 2 : 58$ e $b$ scelto in modo che risulti $x = [1, 1, ..., 1]^T$. Che\n",
    "cosa si osserva?\n"
   ]
  },
  {
   "cell_type": "code",
   "execution_count": null,
   "id": "e8e4f865",
   "metadata": {},
   "outputs": [],
   "source": [
    "def matrix(n):\n",
    "    A=np.zeros((n,n),dtype=float)\n",
    "    for i in range(0,n):\n",
    "        for j in range(0,n):\n",
    "            if i==j or j==n-1:\n",
    "                A[i,j]=1\n",
    "            elif i>j:\n",
    "                A[i,j]=-1\n",
    "            else:\n",
    "                A[i,j]=0\n",
    "    return A\n",
    "\n",
    "indCond=[]\n",
    "err_rel=[]\n",
    "err_rel_qr=[]\n",
    "for n in range(48,59,2):\n",
    "\n",
    "   A=matrix(n)\n",
    "   indCond.append(np.linalg.cond(A,2))\n",
    "   xesatta=np.ones((n,1))\n",
    "   b=np.dot(A,xesatta)\n",
    "   PT,L,U=lu(A)\n",
    "   P=PT.T\n",
    "   x,flag=LUsolve(P,A,L,U,b)\n",
    "    \n",
    "   err_rel.append(np.linalg.norm(x-xesatta,2)/np.linalg.norm(xesatta,2))\n",
    "    \n",
    "   \n",
    "   Q,R=sp.linalg.qr(A)\n",
    "   \n",
    "   y=np.dot(Q.T,b)\n",
    "   xqr,flag=Usolve(R,y)\n",
    "   err_rel_qr.append(np.linalg.norm(xqr-xesatta,2)/np.linalg.norm(xesatta,2))\n",
    "   \n",
    "   \n",
    "plt.loglog(range(48,59,2),err_rel,'ro-',range(48,59,2),err_rel_qr,'go-')\n",
    "plt.legend(['Gauss','QR'])\n",
    "plt.ylabel('Errore relativo sulla soluzione')\n",
    "plt.show()\n",
    "plt.semilogy(range(48,60,2),indCond,'ro-')"
   ]
  },
  {
   "cell_type": "markdown",
   "id": "aed547e3-fe49-41b6-a124-d49c8f9b48f5",
   "metadata": {},
   "source": [
    "## Esercizio 7\n",
    "Implementare la  funzione $jacobi(A,b,x0,toll,itmax)$ per risolvere il  sistema lineare Ax=b utilizzando il Metodo iterativo di Jacobi. \n",
    "La funzione prende in input:\n",
    "- A: matrice dei coefficienti\n",
    "- b: termine noto\n",
    "- x0: vettore iniziale della stessa dimensione di b\n",
    "- toll: tolleranza per il criterio di arresto\n",
    "- itmax: iterazioni massime oltre le quali il metodo si ferma\n",
    "\n",
    "e restituisce in output:\n",
    "- il vettore soluzione\n",
    "- un vettore di tante componenti quanto il numero di iterazioni effettuate, contenente l'errore tra due iterazioni successive $||x^{(k)}-x^{(k-1)}||/||x^{(k)}||$\n",
    "- il numero di iterazioni impiegate per calcolare la soluzione con la tolleranza richiesta\n",
    "\n",
    "\n",
    "Calcolare il raggio spettrale della matrice di iterazione.\n",
    "\n",
    "Implementare un criterio di arresto per il procedimento iterativo in termini di : $||x^{(k)}-x^{(k-1)}||/||x^{(k)}|| <toll$"
   ]
  },
  {
   "cell_type": "code",
   "execution_count": 17,
   "id": "c1cf2133",
   "metadata": {},
   "outputs": [],
   "source": [
    "def jacobi(A,b,x0,toll,it_max):\n",
    "    errore=1000\n",
    "    d=np.diag(A)\n",
    "    n=A.shape[0]\n",
    "    invM=np.diag(1/d)\n",
    "    E=np.tril(A,-1)\n",
    "    F=np.triu(A,1)\n",
    "    N=-(E+F)\n",
    "    T=np.dot(invM,N)\n",
    "    autovalori=np.linalg.eigvals(T)\n",
    "    raggiospettrale=np.max(np.abs(autovalori))\n",
    "    print(\"raggio spettrale jacobi\", raggiospettrale)\n",
    "    it=0\n",
    "    #xold=x0.copy()\n",
    "    er_vet=[]\n",
    "    while it<=it_max and errore>=toll:\n",
    "        x=(b+np.dot(N,x0))/d.reshape(n,1)\n",
    "        errore=np.linalg.norm(x-x0)/np.linalg.norm(x)\n",
    "        er_vet.append(errore)\n",
    "        x0=x.copy()\n",
    "        it=it+1\n",
    "    return x,it,er_vet\n",
    "    "
   ]
  },
  {
   "cell_type": "code",
   "execution_count": 18,
   "id": "d37217d8",
   "metadata": {},
   "outputs": [
    {
     "name": "stdout",
     "output_type": "stream",
     "text": [
      "Raggio spettrale= 0.5586853131416272\n",
      "Soluzione= [[1.]\n",
      " [1.]\n",
      " [1.]]\n",
      "Numero iterazioni= 35\n"
     ]
    },
    {
     "data": {
      "text/plain": [
       "[<matplotlib.lines.Line2D at 0x1f98cd33e50>]"
      ]
     },
     "execution_count": 18,
     "metadata": {},
     "output_type": "execute_result"
    },
    {
     "data": {
      "image/png": "[encoded data removed]",
      "text/plain": [
       "<Figure size 432x288 with 1 Axes>"
      ]
     },
     "metadata": {
      "needs_background": "light"
     },
     "output_type": "display_data"
    }
   ],
   "source": [
    "A=np.array([[4,1,3],[3,4,1],[1,1,17]]) \n",
    "n=A.shape[0]\n",
    "b=np.sum(A,axis=1).reshape(n,1)\n",
    "x0=np.zeros((n,1))\n",
    "itmax=100\n",
    "toll=1e-8\n",
    "x_jac,it_jac,erVet_jac=jacobi(A,b,x0,toll,itmax)\n",
    "print(\"Soluzione=\",x_jac)\n",
    "print(\"Numero iterazioni=\",it_jac)\n",
    "plt.semilogy(np.arange(it_jac),erVet_jac)"
   ]
  },
  {
   "cell_type": "markdown",
   "id": "3e2804e8-0a05-4a88-bb95-014501918127",
   "metadata": {
    "tags": []
   },
   "source": [
    "## Esercizio 8\n",
    "Implementare la  funzione $gauss$_$seidel(A,b,x0,toll,itmax)$ per risolvere il  sistema lineare Ax=b utilizzando il Metodo iterativo di Gauss-Seidel. \n",
    "La funzione prende in input:\n",
    "- A: matrice dei coefficienti\n",
    "- b: termine noto\n",
    "- x0: vettore iniziale della stessa dimensione di b\n",
    "- toll: tolleranza per il criterio di arresto\n",
    "- itmax: iterazioni massime oltre le quali il metodo si ferma\n",
    "\n",
    "e restituisce in output:\n",
    "- il vettore soluzione\n",
    "- un vettore di tante componenti quanto il numero di iterazioni effettuate, contenente l'errore tra due iterazioni successive $||x^{(k)}-x^{(k-1)}||/||x^{(k)}||$\n",
    "- il numero di iterazioni impiegate per calcolare la soluzione con la tolleranza richiesta\n",
    "\n",
    "Calcolare il raggio spettrale della matrice di iterazione.\n",
    "\n",
    "Implementare un criterio di arresto per il procedimento iterativo in termini di : $||x^{(k)}-x^{(k-1)}||/||x^{(k)}|| <toll$"
   ]
  },
  {
   "cell_type": "code",
   "execution_count": null,
   "id": "b834d40e",
   "metadata": {},
   "outputs": [],
   "source": [
    "def Lsolve(L,b):\n",
    "    # test sulla dimensione\n",
    "    m, n = L.shape\n",
    "    flag = 0\n",
    "    if m != n:\n",
    "        print(\"La matrice non è quadrata\")\n",
    "        flag = 1\n",
    "        x = []\n",
    "        return x, flag\n",
    "    # test singolarità\n",
    "    if np.all(np.diag(L)) != True:\n",
    "        print(\"Elemento diagonale nullo - la matrice triangolare inferiore\")\n",
    "        flag = 1\n",
    "        x = []\n",
    "        return x, flag\n",
    "    # allocazione vettore soluzione\n",
    "    x = np.zeros((n, 1))\n",
    "    \n",
    "    for i in range(n):\n",
    "        s=np.dot(L[i,0:i],x[0:i])       # prodotto scalare tra la riga i-esima e le i-1 componenti della soluzione appena calcolate\n",
    "        x[i]= (b[i]-s)/L[i,i]\n",
    "    return x, flag"
   ]
  },
  {
   "cell_type": "code",
   "execution_count": null,
   "id": "60c484e3",
   "metadata": {},
   "outputs": [],
   "source": [
    "def gauss_seidel(A,b,x0,toll,it_max):\n",
    "    errore=1000\n",
    "    d=np.diag(A)\n",
    "    D=np.diag(d)\n",
    "    E=np.tril(A,-1)\n",
    "    F=np.triu(A,1)\n",
    "    M=D+E\n",
    "    N=-F\n",
    "    T=np.dot(np.linalg.inv(M),N)\n",
    "    autovalori=np.linalg.eigvals(T)\n",
    "    raggiospettrale=np.max(np.abs(autovalori))\n",
    "    print(\"raggio spettrale Gauss-Seidel \",raggiospettrale)\n",
    "    it=0\n",
    "    er_vet=[]\n",
    "    while it<=it_max and errore>=toll:\n",
    "        temp=b-np.dot(F,x0)\n",
    "        x,flag=Lsolve(M,temp)\n",
    "        errore=np.linalg.norm(x-x0)/np.linalg.norm(x)\n",
    "        er_vet.append(errore)\n",
    "        x0=x.copy()\n",
    "        it=it+1\n",
    "    return x,it,er_vet"
   ]
  },
  {
   "cell_type": "code",
   "execution_count": null,
   "id": "9f958cd8",
   "metadata": {},
   "outputs": [],
   "source": [
    "A=np.array([[4,1,3],[3,4,1],[1,1,17]]) \n",
    "n=A.shape[0]\n",
    "b=np.sum(A,axis=1).reshape(n,1)\n",
    "x0=np.zeros((n,1))\n",
    "itmax=100\n",
    "toll=1e-8\n",
    "\n",
    "x_jac,it_jac,erVet_jac=jacobi(A,b,x0,toll,itmax)\n",
    "print(\"Soluzione jacobi=\",x_jac)\n",
    "print(\"Numero iterazioni jacobi=\",it_jac)\n",
    "\n",
    "x_GS,it_GS,erVet_GS=guass_sidel(A,b,x0,toll,itmax)\n",
    "print(\"Soluzione gauss-sidel=\",x_GS)\n",
    "print(\"Numero iterazioni gauss-sidel=\",it_GS)\n",
    "\n",
    "plt.semilogy(np.arange(it_jac),erVet_jac)\n",
    "plt.semilogy(np.arange(it_GS),erVet_GS)"
   ]
  },
  {
   "cell_type": "markdown",
   "id": "c74bb0cb-34c4-45c0-b91a-24fe1d933360",
   "metadata": {},
   "source": [
    "## Esercizio 9\n",
    "Testare i metodi di Jacobi e di Gauss Seidel nella soluzione dei - sistemai lineare Ax=b, dove \n",
    "- A=np.array([[4,1,3],[3,4,1],[1,1,17]]) \n",
    "- A=np.array([[3,0, 4],[7, 4, 3],[-1, -1 ,-2]])\n",
    "- A=np.array([[5, 0, -1, 2],[ -2, 4, 1, 0],[0, -1, 4, -1],[ 2, 0, 0, 3]])\n",
    "\n",
    "ed il termine noto del sistema è scelto in maniera tale che la soluzione esatta del sistema sia il vettore fatto da tutti 1.\n",
    "Visualizzare in un grafico in scala logaritmica  l'errore per ogni iterazione per ciascun metodo. Cosa si osserva?\n",
    "Porre toll=1e-8 it_max=500 e x0=np.zeros(A.shape[0])"
   ]
  },
  {
   "cell_type": "code",
   "execution_count": null,
   "id": "6585f5d5",
   "metadata": {},
   "outputs": [],
   "source": [
    "A=np.array([[4,1,3],[3,4,1],[1,1,17]])\n",
    "print(A)\n",
    "#A=np.array([[3,0, 4],[7, 4, 3],[-1, -1 ,-2]])\n",
    "#A=np.array([[5, 0, -1, 2],[ -2, 4, 1, 0],[0, -1, 4, -1],[ 2, 0, 0, 3]])\n",
    "toll=1e-8\n",
    "it_max=100\n",
    "n=A.shape[0]\n",
    "x0=np.zeros(A.shape[0]).reshape(n,1)\n",
    "b=np.sum(A,axis=1).reshape(n,1)\n",
    "sol,it,err_vet=jacobi(A,b,x0,toll,it_max)\n",
    "plt.semilogy(np.arange(it),err_vet)\n",
    "print(\"sol=\\n \",sol,\"\\n it \",it)\n",
    "\n",
    "solgs,itgs,err_vet_gs=gauss_seidel(A,b,x0,toll,it_max)\n",
    "print(\"solgs= \\n\",sol,\"\\n it \",itgs)\n",
    "plt.semilogy(np.arange(itgs),err_vet_gs)\n",
    "plt.legend([\"Jacobi \", \"Gauss Seidel\"])\n",
    "plt.show()\n",
    " "
   ]
  },
  {
   "cell_type": "markdown",
   "id": "a2a550cc-b2af-4e4a-969f-964bbb79182f",
   "metadata": {},
   "source": [
    "## Esercizio 10\n",
    "Implementare la  funzione $gauss$_$seidel$_sor(A,b,x0,omega, toll,itmax) per risolvere il  sistema lineare Ax=b utilizzando il Metodo iterativo di Gauss-Seidel-SOR\n",
    "La funzione prende in input:\n",
    "- A: matrice dei coefficienti\n",
    "- b: termine noto\n",
    "- x0: vettore iniziale della stessa dimensione di b\n",
    "- omega: il parametro di rilassamento\n",
    "- toll: tolleranza per il criterio di arresto\n",
    "- itmax: iterazioni massime oltre le quali il metodo si ferma\n",
    "\n",
    "e restituisce in output:\n",
    "- il vettore soluzione\n",
    "- un vettore di tante componenti quanto il numero di iterazioni effettuate, contenente l'errore tra due iterazioni successive $||x^{(k)}-x^{(k-1)}||/||x^{(k)}||$\n",
    "- il numero di iterazioni impiegate per calcolare la soluzione con la tolleranza richiesta\n",
    "\n",
    "Calcolare il raggio spettrale della matrice di iterazione.\n",
    "\n",
    "Implementare un criterio di arresto per il procedimento iterativo in termini di : $||x^{(k)}-x^{(k-1)}||/||x^{(k)}|| <toll$"
   ]
  },
  {
   "cell_type": "code",
   "execution_count": null,
   "id": "854002bf",
   "metadata": {},
   "outputs": [],
   "source": [
    "def gauss_seidel_sor(A,b,x0,toll,it_max,omega):\n",
    "    errore=1000\n",
    "    d=np.diag(A)\n",
    "    D=np.diag(d)\n",
    "    Dinv=np.diag(1/d)\n",
    "    E=np.tril(A,-1)\n",
    "    F=np.triu(A,1)\n",
    "    Momega=D+omega*E\n",
    "    Nomega=(1-omega)*D-omega*F\n",
    "    T=np.dot(np.linalg.inv(Momega),Nomega)\n",
    "    autovalori=np.linalg.eigvals(T)\n",
    "    raggiospettrale=np.max(np.abs(autovalori))\n",
    "    print(\"raggio spettrale Gauss-Seidel SOR \", raggiospettrale)\n",
    "    \n",
    "    M=D+E\n",
    "    N=-F\n",
    "    it=0\n",
    "    xold=x0.copy()\n",
    "    xnew=x0.copy()\n",
    "    er_vet=[]\n",
    "    while it<=it_max and errore>=toll:\n",
    "        temp=b-np.dot(F,xold)\n",
    "        xtilde,flag=Lsolve(M,temp)\n",
    "        xnew=(1-omega)*xold+omega*xtilde\n",
    "        errore=np.linalg.norm(xnew-xold)/np.linalg.norm(xnew)\n",
    "        er_vet.append(errore)\n",
    "        xold=xnew.copy()\n",
    "        it=it+1\n",
    "    return xnew,it,er_vet"
   ]
  },
  {
   "cell_type": "markdown",
   "id": "0a6df5f9-ad94-4a81-b55a-19afe9b82064",
   "metadata": {},
   "source": [
    "## Esercizio 11\n",
    "Scrivere una funzione creaPoisson(n) che preso in input l'ordine della matrice quadrata di Poisson la costruzione secondo la seguente formula:\n",
    "$$A =\n",
    "\\left [\n",
    "\\begin{array}{ccccccccccc}\n",
    "4 & -1 & 0 & -1 &0 &0 & 0& 0& \\cdots &   0 & 0\\\\\n",
    "-1 & 4 & -1 & 0  &-1 &0 & 0& 0& \\cdots &   0 & 0\\\\\n",
    "0 & -1 & 4 & -1  &0 &-1 & 0& 0& \\cdots &   0 & 0 \\\\\n",
    "-1 & 0 & -1 & 4  &-1 &0  & -1 & 0& \\cdots &   0 & 0\\\\\n",
    "0 & -1 & 0 & -1  & 4 &-1 & 0 & -1& \\cdots &   0 & 0\\\\\n",
    "0 & 0 & -1 & 0  & -1 &4 & -1 & 0&  -1 & 0 & 0 \\\\\n",
    "0 & 0 & 0 & \\ddots  & 0 &\\ddots & \\ddots & \\ddots& \\ddots & \\ddots & 0\\\\\n",
    "0 & 0 & 0 & 0  & -1 &0  & -1 & 4& -1 &   0& -1\\\\\n",
    "\\end{array}\n",
    " \\right ], \\qquad\n",
    "$$\n",
    "- Risolvere il sistema lineare Ax=b con matrice dei coefficienti A di Poisson di ordine 10 e termine noto b scelto in maniera tale che il sistema abbia soluzione il vettore x con tutte le componenti  uguali ad 1, utilizzando  il metodo iterativo di Jacobi, Gauss-Seidel e Gauss-Seidel-Sor con parametro omega scelto tra 1 e 2 in maniera tale che il raggio spettrale della matrice di iterazione sia il più piccolo possibile e confrontare su un unico grafico l'andamento degli errori in scala logaritmica. Usare toll=1e-10."
   ]
  },
  {
   "cell_type": "code",
   "execution_count": null,
   "id": "feccd918",
   "metadata": {},
   "outputs": [],
   "source": [
    "def creaPoisson(n):\n",
    "    #costruire una matrice di Poisson\n",
    "    d=np.ones((n))*4\n",
    "    e=-np.ones((n-1,))\n",
    "    f=-np.ones((n-3,))\n",
    "    A=np.diag(d)+np.diag(e,-1)+np.diag(e,1)+np.diag(f,-3)+np.diag(f,3)\n",
    "    return A\n",
    "    \n",
    "A=creaPoisson(10)\n",
    "b=np.sum(A,axis=1)\n",
    "toll=1e-10\n",
    "it_max=1000\n",
    "n=A.shape[0]\n",
    "x0=np.zeros(A.shape[0]).reshape(n,1)\n",
    "b=np.sum(A,axis=1).reshape(n,1)\n",
    "sol_jac,it_jac,err_vet_jac=jacobi(A,b,x0,toll,it_max)\n",
    "plt.semilogy(np.arange(it_jac),err_vet_jac)\n",
    "#print(\"sol=\",sol_jac,\"it \",it_jac)\n",
    "solgs,itgs,err_vet_gs=gauss_seidel(A,b,x0,toll,it_max)\n",
    "#print(\"solgs=\",solgs,\"it \",itgs)\n",
    "plt.semilogy(np.arange(itgs),err_vet_gs)\n",
    " \n",
    "omega=1.4\n",
    "solgs_sor,itgs_sor,err_vet_gs_sor=gauss_seidel_sor(A,b,x0,toll,it_max,omega)\n",
    "#print(\"solgs_sor=\",solgs_sor,\"it \",itgs_sor)\n",
    "plt.semilogy(np.arange(itgs_sor),err_vet_gs_sor)\n",
    "plt.legend(['Jacobi','Gauss Seidel','Gauss Seidel Sor'])\n",
    "plt.show()"
   ]
  },
  {
   "cell_type": "markdown",
   "id": "186ca402-f3bd-4d8e-b930-11746a839678",
   "metadata": {},
   "source": [
    "## Esercizio 12\n",
    "Implementare una funzione **steepestdescent(A,b,x0,itmax,tol)** che implementa il metodo di discesa più ripida del gradiente per risolvere il sistema lineare Ax=b, con A matrice simmetrica e definita positiva. La funzione prende in input:\n",
    "- A: matrice dei coefficienti\n",
    "- b: termine noto\n",
    "- x0: vettore iniziale della stessa dimensione di b\n",
    "- itmax: iterazioni massime oltre le quali il metodo si ferma\n",
    "- toll: tolleranza per il criterio di arresto\n",
    "\n",
    "e restituisce in output:\n",
    "- il vettore soluzione\n",
    "- un vettore di tante componenti quanto il numero di iterazioni effettuate, contenente la\n",
    "  norma del residuo iterazione per iterazione\n",
    "- il numero di iterazioni impiegate per calcolare la soluzione con la tolleranza richiesta\n",
    "\n",
    "Usare come criterio di arresto $norm(r(k),2) < toll$"
   ]
  },
  {
   "cell_type": "markdown",
   "id": "3a42d682-1775-4ed6-b65a-2666ba309df7",
   "metadata": {},
   "source": [
    "## Esercizio 13\n",
    "Testare il metodo del gradiente sull'esempio dell'esercizio 11"
   ]
  },
  {
   "cell_type": "code",
   "execution_count": null,
   "id": "2efd5c81-967d-4692-b754-af12452eeba0",
   "metadata": {},
   "outputs": [],
   "source": []
  }
 ],
 "metadata": {
  "kernelspec": {
   "display_name": "py310",
   "language": "python",
   "name": "python3"
  },
  "language_info": {
   "codemirror_mode": {
    "name": "ipython",
    "version": 3
   },
   "file_extension": ".py",
   "mimetype": "text/x-python",
   "name": "python",
   "nbconvert_exporter": "python",
   "pygments_lexer": "ipython3",
   "version": "3.10.8 | packaged by conda-forge | (main, Nov 24 2022, 14:07:00) [MSC v.1916 64 bit (AMD64)]"
  },
  "vscode": {
   "interpreter": {
    "hash": "30eef1dcfb837675ec28ded3b62cbdc631b763468d0e57f04da975e3db11727d"
   }
  }
 },
 "nbformat": 4,
 "nbformat_minor": 5
}
